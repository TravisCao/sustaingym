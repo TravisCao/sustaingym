{
 "cells": [
  {
   "attachments": {},
   "cell_type": "markdown",
   "metadata": {},
   "source": [
    "## Analysis of results on EVChargingEnv"
   ]
  },
  {
   "cell_type": "code",
   "execution_count": null,
   "metadata": {},
   "outputs": [],
   "source": [
    "%load_ext autoreload\n",
    "%autoreload 2\n",
    "%matplotlib inline\n",
    "%cd ../.."
   ]
  },
  {
   "cell_type": "code",
   "execution_count": null,
   "metadata": {},
   "outputs": [],
   "source": [
    "import os\n",
    "\n",
    "import matplotlib.pyplot as plt\n",
    "import pandas as pd\n",
    "import seaborn as sns\n",
    "\n",
    "sns.set_style('darkgrid')"
   ]
  },
  {
   "cell_type": "code",
   "execution_count": null,
   "metadata": {},
   "outputs": [],
   "source": [
    "period = 'Summer 2021'\n",
    "logs_dir = 'logs/evcharging'"
   ]
  },
  {
   "cell_type": "code",
   "execution_count": null,
   "metadata": {},
   "outputs": [],
   "source": [
    "# 'mpc_3' turns out to be the best performing version out of\n",
    "#     'mpc_1', 'mpc_3', 'mpc_6', 'mpc_12', 'mpc_24'\n",
    "\n",
    "dfs = []\n",
    "bl_names = {\n",
    "    'Offline\\noptimal': 'offline_optimal',\n",
    "    'Greedy': 'greedy',\n",
    "    'MPC-3': 'mpc_3',\n",
    "    'Random': 'random'\n",
    "}\n",
    "for bl_name, bl in bl_names.items():\n",
    "    csv_path = os.path.join(logs_dir, bl, f'caltech_{period}.csv')\n",
    "    df = pd.read_csv(csv_path)\n",
    "    df['algorithm'] = bl_name\n",
    "    df['trained on'] = period\n",
    "    dfs.append(df)\n",
    "\n",
    "def read_rllib_csv(name, run_name, period):\n",
    "    csv_path = os.path.join(logs_dir, 'rllib', run_name, 'test_results.csv')\n",
    "    df = pd.read_csv(csv_path)\n",
    "    df.drop('Unnamed: 0', axis=1, inplace=True)\n",
    "    df['algorithm'] = name\n",
    "    df['trained on'] = period\n",
    "\n",
    "    if 'reward_breakdown' in df.columns:\n",
    "        keys = ['profit', 'carbon_cost', 'excess_charge']\n",
    "        df['reward_breakdown'] = df['reward_breakdown'].map(eval).map(lambda x: tuple(x[key] for key in keys))\n",
    "        df[keys] = pd.DataFrame(df['reward_breakdown'].tolist(), columns=keys)\n",
    "    return df\n",
    "\n",
    "rllib_runs = {\n",
    "    # 'ppo_5e-05': 'caltech_ppo_Summer 2021_lr5e-05_seed123',\n",
    "    # 'ppo_0.0005': 'caltech_ppo_Summer 2021_lr0.0005_seed123',\n",
    "    'PPO': 'caltech_ppo_Summer 2021_lr5e-06_seed123',  # this one does the best\n",
    "\n",
    "    # 'PPO-d-4': 'caltech_ppo-discrete_Summer 2021_lr0.0005_seed123',\n",
    "    # 'PPO-d-5': 'caltech_ppo-discrete_Summer 2021_lr5e-05_seed123',\n",
    "    'PPO-d': 'caltech_ppo-discrete_Summer 2021_lr5e-06_seed123',  # best\n",
    "\n",
    "    # 'SAC_5e-5': 'caltech_sac_Summer 2021_lr5e-05_seed123',\n",
    "    'SAC': 'caltech_sac_Summer 2021_lr5e-06_seed123',  # best\n",
    "    # 'SAC-2': 'caltech_sac_Summer 2021_lr0.01_seed123',\n",
    "    # 'SAC-3': 'caltech_sac_Summer 2021_lr0.001_seed123',\n",
    "\n",
    "    'MA-PPO': 'caltech_ma0-ppo_Summer 2021_lr0.0005_seed123',  # best\n",
    "    # 'MA-PPO5': 'caltech_ma0-ppo_Summer 2021_lr5e-05_seed123',\n",
    "    # 'MA-PPO6': 'caltech_ma0-ppo_Summer 2021_lr5e-06_seed123',\n",
    "\n",
    "    # 'MA-PPO-d-4': 'caltech_ma0-ppo-discrete_Summer 2021_lr0.0005_seed123',\n",
    "    # 'MA-PPO-d-5': 'caltech_ma0-ppo-discrete_Summer 2021_lr5e-05_seed123',\n",
    "    'MA-PPO-d': 'caltech_ma0-ppo-discrete_Summer 2021_lr5e-06_seed123',  # best\n",
    "\n",
    "    'MA-SAC': 'caltech_ma0-sac_Summer 2021_lr0.01_seed123',  # best\n",
    "    # 'MA-SAC2': 'caltech_ma0-sac_Summer 2021_lr0.001_seed123',\n",
    "    # 'MA-SAC3': 'caltech_ma0-sac_Summer 2021_lr0.0001_seed123',\n",
    "}\n",
    "for name, run_name in rllib_runs.items():\n",
    "    df = read_rllib_csv(name, run_name, period='Summer 2021')\n",
    "    dfs.append(df)\n",
    "\n",
    "rllib_ood_runs = {\n",
    "    # ('PPO_5e-4', 'Summer 2019'): 'caltech_ppo_Summer 2019_lr0.0005_seed123',\n",
    "    # ('PPO_5e-5', 'Summer 2019'): 'caltech_ppo_Summer 2019_lr5e-05_seed123',\n",
    "    ('PPO', 'Summer 2019'): 'caltech_ppo_Summer 2019_lr5e-06_seed123',  # best\n",
    "\n",
    "    # ('PPO-d_5e-4', 'Summer 2019'): 'caltech_ppo-discrete_Summer 2019_lr0.0005_seed123',\n",
    "    ('PPO-d', 'Summer 2019'): 'caltech_ppo-discrete_Summer 2019_lr5e-05_seed123',  # best\n",
    "    # ('PPO-d_5e-6', 'Summer 2019'): 'caltech_ppo-discrete_Summer 2019_lr5e-06_seed123',\n",
    "\n",
    "    ('SAC', 'Summer 2019'): 'caltech_sac_Summer 2019_lr0.01_seed123',  # best\n",
    "    # ('SAC_1e-3', 'Summer 2019'): 'caltech_sac_Summer 2019_lr0.001_seed123',\n",
    "    # ('SAC_1e-4', 'Summer 2019'): 'caltech_sac_Summer 2019_lr0.0001_seed123',\n",
    "\n",
    "    # TODO: include when done\n",
    "    # ('MA-PPO', 'Summer 2019'): 'caltech_ma0-ppo_Summer 2019_lr5e-06_seed123',\n",
    "    # ('MA-PPO-d', 'Summer 2019'): 'caltech_ma0-ppo-discrete_Summer 2019_lr5e-06_seed123',\n",
    "    ('MA-SAC', 'Summer 2019'): 'caltech_ma0-sac_Summer 2019_lr0.01_seed123',\n",
    "}\n",
    "for (name, ood_period), run_name in rllib_ood_runs.items():\n",
    "    df = read_rllib_csv(name, run_name, period=ood_period)\n",
    "    dfs.append(df)\n",
    "\n",
    "df = pd.concat(dfs, axis=0).reset_index(drop=True)"
   ]
  },
  {
   "cell_type": "code",
   "execution_count": null,
   "metadata": {},
   "outputs": [],
   "source": [
    "df.groupby(['algorithm', 'trained on']).agg('mean')"
   ]
  },
  {
   "cell_type": "code",
   "execution_count": null,
   "metadata": {},
   "outputs": [],
   "source": [
    "fig, ax = plt.subplots(1, 1, figsize=(8, 3), tight_layout=True)\n",
    "ax.set(xlabel='Algorithm', ylabel='Daily Return ($)')\n",
    "sns.violinplot(df, x='algorithm', y='return', hue='trained on', ax=ax,\n",
    "               hue_order=['Summer 2019', 'Summer 2021'])\n",
    "ax.axvline(3.5, linestyle=':', color='black')\n",
    "fig.savefig('plots/evcharging/violinplot.png', bbox_inches='tight', dpi=300)"
   ]
  }
 ],
 "metadata": {
  "kernelspec": {
   "display_name": "sustaingym",
   "language": "python",
   "name": "python3"
  },
  "language_info": {
   "codemirror_mode": {
    "name": "ipython",
    "version": 3
   },
   "file_extension": ".py",
   "mimetype": "text/x-python",
   "name": "python",
   "nbconvert_exporter": "python",
   "pygments_lexer": "ipython3",
   "version": "3.9.16"
  },
  "orig_nbformat": 4
 },
 "nbformat": 4,
 "nbformat_minor": 2
}
