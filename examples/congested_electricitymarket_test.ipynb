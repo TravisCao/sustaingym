{
 "cells": [
  {
   "cell_type": "code",
   "execution_count": 1,
   "metadata": {},
   "outputs": [
    {
     "name": "stdout",
     "output_type": "stream",
     "text": [
      "/home/ubuntu/sustaingym\n"
     ]
    }
   ],
   "source": [
    "%load_ext autoreload\n",
    "%autoreload 2\n",
    "%matplotlib inline\n",
    "%cd .."
   ]
  },
  {
   "cell_type": "code",
   "execution_count": 11,
   "metadata": {},
   "outputs": [],
   "source": [
    "from sustaingym.envs.battery.congested_electricity_market import CongestedElectricityMarketEnv\n",
    "import numpy as np\n",
    "from tqdm.auto import tqdm"
   ]
  },
  {
   "cell_type": "code",
   "execution_count": 12,
   "metadata": {},
   "outputs": [
    {
     "data": {
      "text/plain": [
       "({'energy': array([40.], dtype=float32),\n",
       "  'time': array([0.], dtype=float32),\n",
       "  'previous action': array([[[0., 0., 0., 0., 0., 0., 0., 0., 0., 0., 0., 0., 0., 0., 0., 0.,\n",
       "           0., 0., 0., 0., 0., 0., 0., 0., 0., 0., 0., 0., 0., 0., 0., 0.,\n",
       "           0., 0., 0., 0., 0.]],\n",
       "  \n",
       "         [[0., 0., 0., 0., 0., 0., 0., 0., 0., 0., 0., 0., 0., 0., 0., 0.,\n",
       "           0., 0., 0., 0., 0., 0., 0., 0., 0., 0., 0., 0., 0., 0., 0., 0.,\n",
       "           0., 0., 0., 0., 0.]]], dtype=float32),\n",
       "  'previous agent dispatch': array([0.], dtype=float32),\n",
       "  'demand previous': array([977.67096], dtype=float32),\n",
       "  'demand forecast': array([924.16656, 920.2753 , 930.3277 , 991.9388 , 931.62476, 911.84436,\n",
       "         920.9239 , 922.5452 , 965.34875, 935.516  , 944.5955 , 923.518  ,\n",
       "         935.516  , 890.11835, 913.4657 , 918.00543, 914.4385 , 874.2291 ,\n",
       "         898.8736 , 896.2794 , 901.1435 , 907.30457, 899.1979 , 936.81305,\n",
       "         877.7961 , 873.25635, 859.637  , 915.4113 , 888.497  , 902.1163 ,\n",
       "         884.93005, 906.98035, 878.12036, 921.24817, 894.98236, 914.76276],\n",
       "        dtype=float32),\n",
       "  'moer previous': array([0.18758836], dtype=float32),\n",
       "  'moer forecast': array([0.18545903, 0.18640286, 0.1892275 , 0.18648855, 0.1854946 ,\n",
       "         0.20390728, 0.20157339, 0.19715573, 0.19039881, 0.1850962 ,\n",
       "         0.18501517, 0.19087854, 0.20388918, 0.19943945, 0.20567596,\n",
       "         0.19516994, 0.21865727, 0.22084647, 0.21754712, 0.2153923 ,\n",
       "         0.20717451, 0.21481681, 0.20735636, 0.20588855, 0.20935482,\n",
       "         0.21664962, 0.20974036, 0.21694453, 0.20646957, 0.205187  ,\n",
       "         0.20500582, 0.21207461, 0.22386359, 0.2224463 , 0.22006278,\n",
       "         0.21786997], dtype=float32),\n",
       "  'price previous': array([4.4231], dtype=float32)},\n",
       " {'energy reward': None, 'carbon reward': None, 'terminal reward': None})"
      ]
     },
     "execution_count": 12,
     "metadata": {},
     "output_type": "execute_result"
    }
   ],
   "source": [
    "env = CongestedElectricityMarketEnv()\n",
    "env.reset()"
   ]
  },
  {
   "cell_type": "code",
   "execution_count": 13,
   "metadata": {},
   "outputs": [],
   "source": [
    "h = 36\n",
    "N_B = 1\n",
    "\n",
    "rand_action = np.random.random([2, N_B, h+1])"
   ]
  },
  {
   "cell_type": "code",
   "execution_count": 15,
   "metadata": {},
   "outputs": [
    {
     "data": {
      "application/json": {
       "ascii": false,
       "bar_format": null,
       "colour": null,
       "elapsed": 0.017372608184814453,
       "initial": 0,
       "n": 0,
       "ncols": null,
       "nrows": null,
       "postfix": null,
       "prefix": "",
       "rate": null,
       "total": 288,
       "unit": "it",
       "unit_divisor": 1000,
       "unit_scale": false
      },
      "application/vnd.jupyter.widget-view+json": {
       "model_id": "524e1b54d306480e95022710bda81077",
       "version_major": 2,
       "version_minor": 0
      },
      "text/plain": [
       "  0%|          | 0/288 [00:00<?, ?it/s]"
      ]
     },
     "metadata": {},
     "output_type": "display_data"
    },
    {
     "ename": "IndexError",
     "evalue": "index 288 is out of bounds for axis 0 with size 288",
     "output_type": "error",
     "traceback": [
      "\u001b[0;31m---------------------------------------------------------------------------\u001b[0m",
      "\u001b[0;31mIndexError\u001b[0m                                Traceback (most recent call last)",
      "\u001b[1;32m/home/ubuntu/sustaingym/examples/congested_electricitymarket_test.ipynb Cell 5\u001b[0m in \u001b[0;36m2\n\u001b[1;32m      <a href='vscode-notebook-cell://ssh-remote%2Bec2-3-134-110-228.us-east-2.compute.amazonaws.com/home/ubuntu/sustaingym/examples/congested_electricitymarket_test.ipynb#W3sdnNjb2RlLXJlbW90ZQ%3D%3D?line=0'>1</a>\u001b[0m \u001b[39mfor\u001b[39;00m _ \u001b[39min\u001b[39;00m tqdm(\u001b[39mrange\u001b[39m(\u001b[39m288\u001b[39m)):\n\u001b[0;32m----> <a href='vscode-notebook-cell://ssh-remote%2Bec2-3-134-110-228.us-east-2.compute.amazonaws.com/home/ubuntu/sustaingym/examples/congested_electricitymarket_test.ipynb#W3sdnNjb2RlLXJlbW90ZQ%3D%3D?line=1'>2</a>\u001b[0m     env\u001b[39m.\u001b[39;49mstep(rand_action)\n",
      "File \u001b[0;32m~/sustaingym/sustaingym/envs/battery/congested_electricity_market.py:953\u001b[0m, in \u001b[0;36mCongestedElectricityMarketEnv.step\u001b[0;34m(self, action)\u001b[0m\n\u001b[1;32m    949\u001b[0m carbon_reward \u001b[39m=\u001b[39m \u001b[39mself\u001b[39m\u001b[39m.\u001b[39mCARBON_PRICE \u001b[39m*\u001b[39m \u001b[39mself\u001b[39m\u001b[39m.\u001b[39mmoer[\u001b[39m0\u001b[39m] \u001b[39m*\u001b[39m \u001b[39mself\u001b[39m\u001b[39m.\u001b[39mdispatch[\u001b[39m0\u001b[39m]\n\u001b[1;32m    951\u001b[0m reward \u001b[39m=\u001b[39m energy_reward \u001b[39m+\u001b[39m carbon_reward\n\u001b[0;32m--> 953\u001b[0m \u001b[39mself\u001b[39;49m\u001b[39m.\u001b[39;49mintermediate_rewards[\u001b[39m'\u001b[39;49m\u001b[39menergy\u001b[39;49m\u001b[39m'\u001b[39;49m][\u001b[39mself\u001b[39;49m\u001b[39m.\u001b[39;49mcount] \u001b[39m=\u001b[39m energy_reward\n\u001b[1;32m    954\u001b[0m \u001b[39mself\u001b[39m\u001b[39m.\u001b[39mintermediate_rewards[\u001b[39m'\u001b[39m\u001b[39mcarbon\u001b[39m\u001b[39m'\u001b[39m][\u001b[39mself\u001b[39m\u001b[39m.\u001b[39mcount] \u001b[39m=\u001b[39m carbon_reward\n\u001b[1;32m    955\u001b[0m \u001b[39mself\u001b[39m\u001b[39m.\u001b[39mintermediate_rewards[\u001b[39m'\u001b[39m\u001b[39mnet\u001b[39m\u001b[39m'\u001b[39m][\u001b[39mself\u001b[39m\u001b[39m.\u001b[39mcount] \u001b[39m=\u001b[39m reward\n",
      "\u001b[0;31mIndexError\u001b[0m: index 288 is out of bounds for axis 0 with size 288"
     ]
    }
   ],
   "source": [
    "for _ in tqdm(range(288)):\n",
    "    env.step(rand_action)"
   ]
  },
  {
   "cell_type": "code",
   "execution_count": null,
   "metadata": {},
   "outputs": [],
   "source": []
  }
 ],
 "metadata": {
  "kernelspec": {
   "display_name": "sustaingym",
   "language": "python",
   "name": "python3"
  },
  "language_info": {
   "codemirror_mode": {
    "name": "ipython",
    "version": 3
   },
   "file_extension": ".py",
   "mimetype": "text/x-python",
   "name": "python",
   "nbconvert_exporter": "python",
   "pygments_lexer": "ipython3",
   "version": "3.9.13"
  },
  "orig_nbformat": 4
 },
 "nbformat": 4,
 "nbformat_minor": 2
}
