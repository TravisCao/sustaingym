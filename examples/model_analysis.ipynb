{
 "cells": [
  {
   "cell_type": "code",
   "execution_count": null,
   "metadata": {},
   "outputs": [],
   "source": [
    "%load_ext autoreload\n",
    "%autoreload 2\n",
    "%matplotlib inline\n",
    "%cd .."
   ]
  },
  {
   "cell_type": "code",
   "execution_count": null,
   "metadata": {},
   "outputs": [],
   "source": [
    "!ls"
   ]
  },
  {
   "cell_type": "code",
   "execution_count": null,
   "metadata": {},
   "outputs": [],
   "source": [
    "import time\n",
    "\n",
    "import matplotlib.pyplot as plt\n",
    "import numpy as np\n",
    "import pandas as pd\n",
    "import seaborn as sns\n",
    "sns.set_style(\"darkgrid\", {\"grid.color\": \".6\", \"grid.linestyle\": \":\"})\n",
    "\n",
    "from stable_baselines3 import PPO, A2C, DQN\n",
    "from stable_baselines3.common.callbacks import EvalCallback, CallbackList, StopTrainingOnNoModelImprovement\n",
    "from stable_baselines3.common.env_util import make_vec_env\n",
    "from stable_baselines3.common.utils import set_random_seed\n",
    "from stable_baselines3.common.vec_env import DummyVecEnv, SubprocVecEnv\n",
    "\n",
    "\n",
    "\n",
    "from sustaingym.envs import ElectricityMarketEnv\n",
    "from sustaingym.envs.battery.plot_utils import plot_model_training_reward_curves, plot_reward_distribution, plot_state_of_charge_and_prices, plot_reward_over_episode, run_model_for_evaluation\n",
    "from sustaingym.envs.battery.wrapped import DiscreteActions"
   ]
  },
  {
   "cell_type": "code",
   "execution_count": null,
   "metadata": {},
   "outputs": [],
   "source": [
    "ax = plot_model_training_reward_curves(None, 'PPO', ['in_dist', 'out_dist'])\n",
    "\n",
    "plt.savefig('examples/logs_PPO/ppo_reward_curves.png', dpi=300)"
   ]
  },
  {
   "cell_type": "code",
   "execution_count": null,
   "metadata": {},
   "outputs": [],
   "source": [
    "ax = plot_model_training_reward_curves(None, 'A2C', ['in_dist', 'out_dist'])\n",
    "\n",
    "plt.savefig('examples/logs_A2C/a2c_reward_curves.png', dpi=300)"
   ]
  },
  {
   "cell_type": "code",
   "execution_count": null,
   "metadata": {},
   "outputs": [],
   "source": [
    "env_2019 = ElectricityMarketEnv(month='2019-05', seed=195)\n",
    "\n",
    "ppo = PPO.load('examples/model_PPO_2019_5.zip')\n",
    "a2c = A2C.load('examples/model_A2C_2019_5.zip')\n",
    "\n",
    "ax = plot_reward_distribution(None, env_2019, [ppo, a2c],\n",
    "    ['ppo in dist', 'a2c in dist'], 10, '2019')\n",
    "\n",
    "plt.xticks(rotation=30)\n",
    "\n",
    "plt.savefig('algo_comp_2019.png', dpi=300)\n",
    "\n"
   ]
  },
  {
   "cell_type": "code",
   "execution_count": null,
   "metadata": {},
   "outputs": [],
   "source": [
    "env_2021 = BatteryStorageInGridEnv(month='2021-05', seed=215)\n",
    "\n",
    "ppo = PPO.load('examples/model_PPO_2019_5.zip')\n",
    "a2c = A2C.load('examples/model_A2C_2019_5.zip')\n",
    "\n",
    "ax = plot_reward_distribution(None, env_2021, [ppo, a2c],\n",
    "    ['ppo out dist', 'a2c out dist'], 10, '2021')\n",
    "\n",
    "plt.savefig('algo_comp_2021.png', dpi=300)"
   ]
  },
  {
   "cell_type": "code",
   "execution_count": null,
   "metadata": {},
   "outputs": [],
   "source": [
    "import datetime\n",
    "import gym\n",
    "import matplotlib.dates as mdates\n",
    "import matplotlib.ticker as plticker\n",
    "\n",
    "# class DiscreteActions(gym.ActionWrapper):\n",
    "#     def __init__(self, env: ElectricityMarketEnv):\n",
    "#         super().__init__(env)\n",
    "#         self.env = env\n",
    "#         self.charge_action = (env.action_space.high[0], env.action_space.high[0])\n",
    "#         self.discharge_action = (0.01*env.action_space.high[0], 0.01*env.action_space.high[0])\n",
    "#         self.action_space = gym.spaces.Discrete(2)\n",
    "    \n",
    "#     def action(self, action: int):\n",
    "#         assert action in [0, 1]\n",
    "#         if action == 0:\n",
    "#             return self.charge_action\n",
    "#         else:\n",
    "#             return self.discharge_action\n",
    "    \n",
    "#     def _calculate_prices_without_agent(self) -> np.ndarray:\n",
    "#         return self.env._calculate_prices_without_agent()\n",
    "    \n",
    "#     def _calculate_price_taking_optimal(\n",
    "#             self, prices: np.ndarray, init_charge: float,\n",
    "#             final_charge: float) -> tuple[float, np.ndarray]:\n",
    "#         return self.env._calculate_price_taking_optimal(prices, init_charge, final_charge)\n",
    "    \n",
    "#     def _calculate_terminal_cost(self, agent_battery_charge: float) -> float:\n",
    "#         return self.env._caculate_terminal_cost(agent_battery_charge)\n",
    "\n",
    "df_load = pd.read_csv('sustaingym/data/demand_data/CAISO-demand-2019-05.csv.gz', compression='gzip', index_col=0)\n",
    "\n",
    "env = ElectricityMarketEnv(month='2019-05', seed=195)\n",
    "discrete_env = DiscreteActions(env)\n",
    "\n",
    "a2c = A2C.load('examples/discrete_model_A2C_2019_5.zip')\n",
    "\n",
    "ax, ax2 = plot_state_of_charge_and_prices(None, df_load, a2c, 'a2c in-dist', discrete_env)\n",
    "\n",
    "plt.savefig('prices_and_soc_over_episode.png', dpi=300)"
   ]
  },
  {
   "cell_type": "code",
   "execution_count": null,
   "metadata": {},
   "outputs": [],
   "source": [
    "env = ElectricityMarketEnv(month='2019-05', seed=195)\n",
    "env = DiscreteActions(env)\n",
    "ppo = PPO.load('examples/discrete_model_PPO_2019_5.zip')\n",
    "\n",
    "ax, ax2 = plot_reward_over_episode(None, ppo, env)\n",
    "\n",
    "plt.savefig('reward_over_epsiode.png', dpi=300)"
   ]
  }
 ],
 "metadata": {
  "kernelspec": {
   "display_name": "Python 3.9.13 ('sustaingym')",
   "language": "python",
   "name": "python3"
  },
  "language_info": {
   "codemirror_mode": {
    "name": "ipython",
    "version": 3
   },
   "file_extension": ".py",
   "mimetype": "text/x-python",
   "name": "python",
   "nbconvert_exporter": "python",
   "pygments_lexer": "ipython3",
   "version": "3.9.13"
  },
  "orig_nbformat": 4,
  "vscode": {
   "interpreter": {
    "hash": "c910351b0c3a4aade2cf03b555240fe9951314ae7b50b4f56bc279231ceafe8d"
   }
  }
 },
 "nbformat": 4,
 "nbformat_minor": 2
}
