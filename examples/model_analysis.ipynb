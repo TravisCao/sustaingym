{
 "cells": [
  {
   "cell_type": "code",
   "execution_count": null,
   "metadata": {},
   "outputs": [],
   "source": [
    "%load_ext autoreload\n",
    "%autoreload 2\n",
    "%matplotlib inline\n",
    "%cd .."
   ]
  },
  {
   "cell_type": "code",
   "execution_count": null,
   "metadata": {},
   "outputs": [],
   "source": [
    "!ls"
   ]
  },
  {
   "cell_type": "code",
   "execution_count": null,
   "metadata": {},
   "outputs": [],
   "source": [
    "import time\n",
    "\n",
    "import matplotlib.pyplot as plt\n",
    "import numpy as np\n",
    "import pandas as pd\n",
    "import seaborn as sns\n",
    "sns.set_style(\"darkgrid\", {\"grid.color\": \".6\", \"grid.linestyle\": \":\"})\n",
    "\n",
    "from stable_baselines3 import PPO, A2C\n",
    "from stable_baselines3.common.callbacks import EvalCallback, CallbackList, StopTrainingOnNoModelImprovement\n",
    "from stable_baselines3.common.env_util import make_vec_env\n",
    "from stable_baselines3.common.utils import set_random_seed\n",
    "from stable_baselines3.common.vec_env import DummyVecEnv, SubprocVecEnv\n",
    "\n",
    "\n",
    "\n",
    "from sustaingym.envs.battery.MO_single_agent_battery_storage_env import BatteryStorageInGridEnv\n",
    "from sustaingym.envs.battery.plot_utils import plot_model_training_reward_curves, plot_reward_distribution, plot_state_of_charge_and_prices, plot_reward_over_episode, run_model_for_evaluation"
   ]
  },
  {
   "cell_type": "code",
   "execution_count": null,
   "metadata": {},
   "outputs": [],
   "source": [
    "ax = plot_model_training_reward_curves(None, 'PPO', ['in_dist', 'out_dist'])\n",
    "\n",
    "plt.savefig('examples/logs_PPO/ppo_reward_curves.png', dpi=300)"
   ]
  },
  {
   "cell_type": "code",
   "execution_count": null,
   "metadata": {},
   "outputs": [],
   "source": [
    "ax = plot_model_training_reward_curves(None, 'A2C', ['in_dist', 'out_dist'])\n",
    "\n",
    "plt.savefig('examples/logs_A2C/a2c_reward_curves.png', dpi=300)"
   ]
  },
  {
   "cell_type": "code",
   "execution_count": null,
   "metadata": {},
   "outputs": [],
   "source": [
    "env_2019 = BatteryStorageInGridEnv(month='2019-05', seed=195)\n",
    "\n",
    "ppo = PPO.load('examples/model_2019_5.zip')\n",
    "a2c = A2C.load('examples/model_A2C_2019_5.zip')\n",
    "\n",
    "ax = plot_reward_distribution(None, env_2019, [ppo, a2c],\n",
    "    ['ppo in dist', 'a2c in dist'], 10, '2019')\n",
    "\n",
    "plt.xticks(rotation=30)\n",
    "\n",
    "plt.savefig('algo_comp_2019.png', dpi=300)\n",
    "\n"
   ]
  },
  {
   "cell_type": "code",
   "execution_count": null,
   "metadata": {},
   "outputs": [],
   "source": [
    "env_2021 = BatteryStorageInGridEnv(month='2021-05', seed=215)\n",
    "\n",
    "ppo = PPO.load('examples/model_2019_5.zip')\n",
    "a2c = A2C.load('examples/model_A2C_2019_5.zip')\n",
    "\n",
    "ax = plot_reward_distribution(None, env_2021, [ppo, a2c],\n",
    "    ['ppo out dist', 'a2c out dist'], 10, '2021')\n",
    "\n",
    "plt.savefig('algo_comp_2021.png', dpi=300)"
   ]
  },
  {
   "cell_type": "code",
   "execution_count": null,
   "metadata": {},
   "outputs": [],
   "source": [
    "import datetime\n",
    "import matplotlib.dates as mdates\n",
    "import matplotlib.ticker as plticker\n",
    "\n",
    "df_load = pd.read_csv('sustaingym/data/demand_data/CAISO-demand-2019-05.csv.gz', compression='gzip', index_col=0)\n",
    "\n",
    "env = BatteryStorageInGridEnv(month='2019-05', seed=195)\n",
    "ppo = PPO.load('examples/model_2019_5.zip')\n",
    "\n",
    "ax, ax2 = plot_state_of_charge_and_prices(None, df_load, ppo, 'ppo in-dist', env)\n",
    "\n",
    "plt.savefig('prices_and_soc_over_episode.png', dpi=300)"
   ]
  },
  {
   "cell_type": "code",
   "execution_count": null,
   "metadata": {},
   "outputs": [],
   "source": [
    "env = BatteryStorageInGridEnv(month='2019-05', seed=195)\n",
    "ppo = PPO.load('examples/model_2019_5.zip')\n",
    "\n",
    "ax, ax2 = plot_reward_over_episode(None, ppo, env)\n",
    "\n",
    "plt.savefig('reward_over_epsiode.png', dpi=300)"
   ]
  },
  {
   "cell_type": "code",
   "execution_count": null,
   "metadata": {},
   "outputs": [],
   "source": []
  }
 ],
 "metadata": {
  "kernelspec": {
   "display_name": "Python 3.9.13 ('sustaingym')",
   "language": "python",
   "name": "python3"
  },
  "language_info": {
   "codemirror_mode": {
    "name": "ipython",
    "version": 3
   },
   "file_extension": ".py",
   "mimetype": "text/x-python",
   "name": "python",
   "nbconvert_exporter": "python",
   "pygments_lexer": "ipython3",
   "version": "3.9.13"
  },
  "orig_nbformat": 4,
  "vscode": {
   "interpreter": {
    "hash": "c910351b0c3a4aade2cf03b555240fe9951314ae7b50b4f56bc279231ceafe8d"
   }
  }
 },
 "nbformat": 4,
 "nbformat_minor": 2
}
