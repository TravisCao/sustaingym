{
 "cells": [
  {
   "cell_type": "code",
   "execution_count": 1,
   "metadata": {},
   "outputs": [],
   "source": [
    "%load_ext autoreload\n",
    "%autoreload 2\n",
    "%matplotlib inline"
   ]
  },
  {
   "cell_type": "code",
   "execution_count": 3,
   "metadata": {},
   "outputs": [
    {
     "data": {
      "text/html": [
       "<div>\n",
       "<style scoped>\n",
       "    .dataframe tbody tr th:only-of-type {\n",
       "        vertical-align: middle;\n",
       "    }\n",
       "\n",
       "    .dataframe tbody tr th {\n",
       "        vertical-align: top;\n",
       "    }\n",
       "\n",
       "    .dataframe thead th {\n",
       "        text-align: right;\n",
       "    }\n",
       "</style>\n",
       "<table border=\"1\" class=\"dataframe\">\n",
       "  <thead>\n",
       "    <tr style=\"text-align: right;\">\n",
       "      <th></th>\n",
       "      <th>INTERVALSTARTTIME_GMT</th>\n",
       "      <th>INTERVALENDTIME_GMT</th>\n",
       "      <th>VALUE</th>\n",
       "    </tr>\n",
       "  </thead>\n",
       "  <tbody>\n",
       "    <tr>\n",
       "      <th>0</th>\n",
       "      <td>2022-05-21T07:00:00-00:00</td>\n",
       "      <td>2022-05-21T07:05:00-00:00</td>\n",
       "      <td>67.1929</td>\n",
       "    </tr>\n",
       "    <tr>\n",
       "      <th>1</th>\n",
       "      <td>2022-05-21T07:05:00-00:00</td>\n",
       "      <td>2022-05-21T07:10:00-00:00</td>\n",
       "      <td>67.1929</td>\n",
       "    </tr>\n",
       "    <tr>\n",
       "      <th>2</th>\n",
       "      <td>2022-05-21T07:10:00-00:00</td>\n",
       "      <td>2022-05-21T07:15:00-00:00</td>\n",
       "      <td>67.1929</td>\n",
       "    </tr>\n",
       "    <tr>\n",
       "      <th>3</th>\n",
       "      <td>2022-05-21T07:15:00-00:00</td>\n",
       "      <td>2022-05-21T07:20:00-00:00</td>\n",
       "      <td>67.2857</td>\n",
       "    </tr>\n",
       "    <tr>\n",
       "      <th>4</th>\n",
       "      <td>2022-05-21T07:20:00-00:00</td>\n",
       "      <td>2022-05-21T07:25:00-00:00</td>\n",
       "      <td>67.2857</td>\n",
       "    </tr>\n",
       "  </tbody>\n",
       "</table>\n",
       "</div>"
      ],
      "text/plain": [
       "       INTERVALSTARTTIME_GMT        INTERVALENDTIME_GMT    VALUE\n",
       "0  2022-05-21T07:00:00-00:00  2022-05-21T07:05:00-00:00  67.1929\n",
       "1  2022-05-21T07:05:00-00:00  2022-05-21T07:10:00-00:00  67.1929\n",
       "2  2022-05-21T07:10:00-00:00  2022-05-21T07:15:00-00:00  67.1929\n",
       "3  2022-05-21T07:15:00-00:00  2022-05-21T07:20:00-00:00  67.2857\n",
       "4  2022-05-21T07:20:00-00:00  2022-05-21T07:25:00-00:00  67.2857"
      ]
     },
     "execution_count": 3,
     "metadata": {},
     "output_type": "execute_result"
    }
   ],
   "source": [
    "import pandas as pd\n",
    "import matplotlib.pyplot as plt\n",
    "import numpy as np\n",
    "\n",
    "df_prices = pd.read_csv(r'data/prices_2022.csv')\n",
    "df_prices.head()"
   ]
  },
  {
   "cell_type": "code",
   "execution_count": 4,
   "metadata": {},
   "outputs": [
    {
     "name": "stdout",
     "output_type": "stream",
     "text": [
      "8928\n",
      "(8928,)\n",
      "[0.00000000e+00 3.47222222e-03 6.94444444e-03 ... 3.09895833e+01\n",
      " 3.09930556e+01 3.09965278e+01]\n",
      "mean:  71.4433636827957\n",
      "standard deviation:  94.95917912516408\n"
     ]
    }
   ],
   "source": [
    "print(df_prices.shape[0])\n",
    "prices = np.zeros((df_prices.shape[0], ))\n",
    "times = np.zeros((df_prices.shape[0], ))\n",
    "\n",
    "timer = 0\n",
    "for i in range(288*31):\n",
    "    prices[i] = df_prices.iloc[i, 2]\n",
    "    times[i] = timer\n",
    "    timer += 1/288\n",
    "\n",
    "print(prices.shape)\n",
    "print(times)\n",
    "\n",
    "print(\"mean: \", np.mean(prices))\n",
    "print(\"standard deviation: \", np.std(prices))"
   ]
  },
  {
   "cell_type": "code",
   "execution_count": 5,
   "metadata": {},
   "outputs": [
    {
     "data": {
      "image/png": "[encoded data removed]",
      "text/plain": [
       "<Figure size 432x288 with 1 Axes>"
      ]
     },
     "metadata": {
      "needs_background": "light"
     },
     "output_type": "display_data"
    }
   ],
   "source": [
    "plt.plot(times, prices)\n",
    "\n",
    "# naming the x axis \n",
    "plt.xlabel('time (days)') \n",
    "# naming the y axis \n",
    "plt.ylabel('prices ($)')\n",
    "\n",
    "plt.show()"
   ]
  },
  {
   "cell_type": "code",
   "execution_count": 6,
   "metadata": {},
   "outputs": [
    {
     "data": {
      "image/png": "[encoded data removed]",
      "text/plain": [
       "<Figure size 432x288 with 1 Axes>"
      ]
     },
     "metadata": {
      "needs_background": "light"
     },
     "output_type": "display_data"
    }
   ],
   "source": [
    "plt.hist(prices, 100)\n",
    "plt.show()"
   ]
  },
  {
   "cell_type": "code",
   "execution_count": 16,
   "metadata": {},
   "outputs": [
    {
     "name": "stdout",
     "output_type": "stream",
     "text": [
      "07:10\n",
      "7\n",
      "10\n",
      "0.2986111111111111\n"
     ]
    }
   ],
   "source": [
    "times = np.zeros((df_prices.shape[0], ))\n",
    "\n",
    "date = df_prices.iloc[2, 0]\n",
    "time = date[11:16]\n",
    "hour = int(time[0:2])\n",
    "minute = int(time[3:5])\n",
    "print(time)\n",
    "print(hour)\n",
    "print(minute)\n",
    "print((hour + minute/60) / 24)\n",
    "# for i in range(288*31):\n",
    "#     date = df_prices.iloc[i, 0]\n",
    "#     time = date.substring()\n",
    "\n",
    "# print(times)"
   ]
  }
 ],
 "metadata": {
  "kernelspec": {
   "display_name": "Python 3.9.13 ('sustaingym')",
   "language": "python",
   "name": "python3"
  },
  "language_info": {
   "codemirror_mode": {
    "name": "ipython",
    "version": 3
   },
   "file_extension": ".py",
   "mimetype": "text/x-python",
   "name": "python",
   "nbconvert_exporter": "python",
   "pygments_lexer": "ipython3",
   "version": "3.9.13"
  },
  "orig_nbformat": 4,
  "vscode": {
   "interpreter": {
    "hash": "c910351b0c3a4aade2cf03b555240fe9951314ae7b50b4f56bc279231ceafe8d"
   }
  }
 },
 "nbformat": 4,
 "nbformat_minor": 2
}
