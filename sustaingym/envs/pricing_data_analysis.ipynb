{
 "cells": [
  {
   "cell_type": "code",
   "execution_count": null,
   "metadata": {},
   "outputs": [],
   "source": [
    "%load_ext autoreload\n",
    "%autoreload 2\n",
    "%matplotlib inline"
   ]
  },
  {
   "cell_type": "code",
   "execution_count": null,
   "metadata": {},
   "outputs": [],
   "source": [
    "import pandas as pd\n",
    "import matplotlib.pyplot as plt\n",
    "import numpy as np\n",
    "\n",
    "df_prices = pd.read_csv(r'data/prices_2022.csv')\n",
    "df_prices.head()"
   ]
  },
  {
   "cell_type": "code",
   "execution_count": null,
   "metadata": {},
   "outputs": [],
   "source": [
    "print(df_prices.shape[0])\n",
    "prices = np.zeros((df_prices.shape[0], ))\n",
    "times = np.zeros((df_prices.shape[0], ))\n",
    "\n",
    "timer = 0\n",
    "for i in range(288*31):\n",
    "    prices[i] = df_prices.iloc[i, 2]\n",
    "    times[i] = timer\n",
    "    timer += 1/288\n",
    "\n",
    "print(prices.shape)\n",
    "print(times)\n",
    "\n",
    "print(\"mean: \", np.mean(prices))\n",
    "print(\"standard deviation: \", np.std(prices))"
   ]
  },
  {
   "cell_type": "code",
   "execution_count": null,
   "metadata": {},
   "outputs": [],
   "source": [
    "plt.plot(times, prices)\n",
    "\n",
    "# naming the x axis \n",
    "plt.xlabel('time (days)') \n",
    "# naming the y axis \n",
    "plt.ylabel('prices ($)')\n",
    "\n",
    "plt.show()"
   ]
  },
  {
   "cell_type": "code",
   "execution_count": null,
   "metadata": {},
   "outputs": [],
   "source": [
    "plt.hist(prices, 100)\n",
    "plt.show()"
   ]
  },
  {
   "cell_type": "code",
   "execution_count": null,
   "metadata": {},
   "outputs": [],
   "source": [
    "times = np.zeros((df_prices.shape[0], ))\n",
    "\n",
    "date = df_prices.iloc[2, 0]\n",
    "time = date[11:16]\n",
    "hour = int(time[0:2])\n",
    "minute = int(time[3:5])\n",
    "print(time)\n",
    "print(hour)\n",
    "print(minute)\n",
    "print((hour + minute/60) / 24)\n",
    "# for i in range(288*31):\n",
    "#     date = df_prices.iloc[i, 0]\n",
    "#     time = date.substring()\n",
    "\n",
    "# print(times)"
   ]
  }
 ],
 "metadata": {
  "kernelspec": {
   "display_name": "Python 3.9.13 ('sustaingym')",
   "language": "python",
   "name": "python3"
  },
  "language_info": {
   "codemirror_mode": {
    "name": "ipython",
    "version": 3
   },
   "file_extension": ".py",
   "mimetype": "text/x-python",
   "name": "python",
   "nbconvert_exporter": "python",
   "pygments_lexer": "ipython3",
   "version": "3.9.13"
  },
  "orig_nbformat": 4,
  "vscode": {
   "interpreter": {
    "hash": "c910351b0c3a4aade2cf03b555240fe9951314ae7b50b4f56bc279231ceafe8d"
   }
  }
 },
 "nbformat": 4,
 "nbformat_minor": 2
}
