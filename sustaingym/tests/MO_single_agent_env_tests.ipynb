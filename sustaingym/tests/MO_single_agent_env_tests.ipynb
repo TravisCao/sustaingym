{
 "cells": [
  {
   "cell_type": "code",
   "execution_count": 1,
   "metadata": {},
   "outputs": [],
   "source": [
    "%load_ext autoreload\n",
    "%autoreload 2\n",
    "%matplotlib inline"
   ]
  },
  {
   "cell_type": "code",
   "execution_count": 2,
   "metadata": {},
   "outputs": [
    {
     "name": "stderr",
     "output_type": "stream",
     "text": [
      "/home/ubuntu/.conda/envs/sustaingym/lib/python3.9/site-packages/stable_baselines3/common/env_checker.py:272: UserWarning: We recommend you to use a symmetric and normalized Box action space (range=[-1, 1]) cf https://stable-baselines3.readthedocs.io/en/master/guide/rl_tips.html\n",
      "  warnings.warn(\n",
      "/home/ubuntu/.conda/envs/sustaingym/lib/python3.9/site-packages/cvxpy/expressions/expression.py:593: UserWarning: \n",
      "This use of ``*`` has resulted in matrix multiplication.\n",
      "Using ``*`` for matrix multiplication has been deprecated since CVXPY 1.1.\n",
      "    Use ``*`` for matrix-scalar and vector-scalar multiplication.\n",
      "    Use ``@`` for matrix-matrix and matrix-vector multiplication.\n",
      "    Use ``multiply`` for elementwise multiplication.\n",
      "This code path has been hit 1 times so far.\n",
      "\n",
      "  warnings.warn(msg, UserWarning)\n",
      "/home/ubuntu/.conda/envs/sustaingym/lib/python3.9/site-packages/cvxpy/expressions/expression.py:593: UserWarning: \n",
      "This use of ``*`` has resulted in matrix multiplication.\n",
      "Using ``*`` for matrix multiplication has been deprecated since CVXPY 1.1.\n",
      "    Use ``*`` for matrix-scalar and vector-scalar multiplication.\n",
      "    Use ``@`` for matrix-matrix and matrix-vector multiplication.\n",
      "    Use ``multiply`` for elementwise multiplication.\n",
      "This code path has been hit 2 times so far.\n",
      "\n",
      "  warnings.warn(msg, UserWarning)\n"
     ]
    },
    {
     "ename": "DCPError",
     "evalue": "Problem does not follow DCP rules. Specifically:\nThe objective is not DCP. Its following subexpressions are not:\n[3.24139132 2.78392141 1.83641967 0.38025188 2.54828361 2.80479271\n 3.77468992 3.6278362  3.30244562 2.70708105] @ var1[0:10] + [1.74087187 3.07156204 3.00300232 5.09269191] @ maximum(var1[10:14], 0.0) + [1.25631177 1.03553921 0.51253533 0.92000127] @ minimum(0.0, var1[10:14]) + [9.91921616] @ maximum(var1[14], 0.0) + [11.31600189] @ minimum(var1[14], 0.0)",
     "output_type": "error",
     "traceback": [
      "\u001b[0;31m---------------------------------------------------------------------------\u001b[0m",
      "\u001b[0;31mDCPError\u001b[0m                                  Traceback (most recent call last)",
      "\u001b[1;32m/home/ubuntu/sustaingym/sustaingym/tests/MO_single_agent_env_tests.ipynb Cell 2\u001b[0m in \u001b[0;36m<cell line: 12>\u001b[0;34m()\u001b[0m\n\u001b[1;32m      <a href='vscode-notebook-cell://ssh-remote%2Bec2-18-222-147-245.us-east-2.compute.amazonaws.com/home/ubuntu/sustaingym/sustaingym/tests/MO_single_agent_env_tests.ipynb#ch0000001vscode-remote?line=7'>8</a>\u001b[0m \u001b[39mfrom\u001b[39;00m \u001b[39menvs\u001b[39;00m\u001b[39m.\u001b[39;00m\u001b[39mMO_single_agent_battery_storage_env\u001b[39;00m \u001b[39mimport\u001b[39;00m BatteryStorageInGridEnv\n\u001b[1;32m     <a href='vscode-notebook-cell://ssh-remote%2Bec2-18-222-147-245.us-east-2.compute.amazonaws.com/home/ubuntu/sustaingym/sustaingym/tests/MO_single_agent_env_tests.ipynb#ch0000001vscode-remote?line=9'>10</a>\u001b[0m env \u001b[39m=\u001b[39m BatteryStorageInGridEnv()\n\u001b[0;32m---> <a href='vscode-notebook-cell://ssh-remote%2Bec2-18-222-147-245.us-east-2.compute.amazonaws.com/home/ubuntu/sustaingym/sustaingym/tests/MO_single_agent_env_tests.ipynb#ch0000001vscode-remote?line=11'>12</a>\u001b[0m check_env(env)\n",
      "File \u001b[0;32m~/.conda/envs/sustaingym/lib/python3.9/site-packages/stable_baselines3/common/env_checker.py:283\u001b[0m, in \u001b[0;36mcheck_env\u001b[0;34m(env, warn, skip_render_check)\u001b[0m\n\u001b[1;32m    278\u001b[0m         warnings\u001b[39m.\u001b[39mwarn(\n\u001b[1;32m    279\u001b[0m             \u001b[39mf\u001b[39m\u001b[39m\"\u001b[39m\u001b[39mYour action space has dtype \u001b[39m\u001b[39m{\u001b[39;00maction_space\u001b[39m.\u001b[39mdtype\u001b[39m}\u001b[39;00m\u001b[39m, we recommend using np.float32 to avoid cast errors.\u001b[39m\u001b[39m\"\u001b[39m\n\u001b[1;32m    280\u001b[0m         )\n\u001b[1;32m    282\u001b[0m \u001b[39m# ============ Check the returned values ===============\u001b[39;00m\n\u001b[0;32m--> 283\u001b[0m _check_returned_values(env, observation_space, action_space)\n\u001b[1;32m    285\u001b[0m \u001b[39m# ==== Check the render method and the declared render modes ====\u001b[39;00m\n\u001b[1;32m    286\u001b[0m \u001b[39mif\u001b[39;00m \u001b[39mnot\u001b[39;00m skip_render_check:\n",
      "File \u001b[0;32m~/.conda/envs/sustaingym/lib/python3.9/site-packages/stable_baselines3/common/env_checker.py:156\u001b[0m, in \u001b[0;36m_check_returned_values\u001b[0;34m(env, observation_space, action_space)\u001b[0m\n\u001b[1;32m    154\u001b[0m \u001b[39m# Sample a random action\u001b[39;00m\n\u001b[1;32m    155\u001b[0m action \u001b[39m=\u001b[39m action_space\u001b[39m.\u001b[39msample()\n\u001b[0;32m--> 156\u001b[0m data \u001b[39m=\u001b[39m env\u001b[39m.\u001b[39;49mstep(action)\n\u001b[1;32m    158\u001b[0m \u001b[39massert\u001b[39;00m \u001b[39mlen\u001b[39m(data) \u001b[39m==\u001b[39m \u001b[39m4\u001b[39m, \u001b[39m\"\u001b[39m\u001b[39mThe `step()` method must return four values: obs, reward, done, info\u001b[39m\u001b[39m\"\u001b[39m\n\u001b[1;32m    160\u001b[0m \u001b[39m# Unpack\u001b[39;00m\n",
      "File \u001b[0;32m~/sustaingym/sustaingym/tests/../envs/MO_single_agent_battery_storage_env.py:314\u001b[0m, in \u001b[0;36mBatteryStorageInGridEnv.step\u001b[0;34m(self, action)\u001b[0m\n\u001b[1;32m    311\u001b[0m prev_dispatch \u001b[39m=\u001b[39m \u001b[39mself\u001b[39m\u001b[39m.\u001b[39mdispatch\n\u001b[1;32m    313\u001b[0m market_op \u001b[39m=\u001b[39m MarketOperator(\u001b[39mself\u001b[39m)\n\u001b[0;32m--> 314\u001b[0m (_, x_bats, x_agent) \u001b[39m=\u001b[39m market_op\u001b[39m.\u001b[39;49mget_dispatch()\n\u001b[1;32m    315\u001b[0m \u001b[39mself\u001b[39m\u001b[39m.\u001b[39mdispatch \u001b[39m=\u001b[39m np\u001b[39m.\u001b[39marray([x_agent], dtype\u001b[39m=\u001b[39mnp\u001b[39m.\u001b[39mfloat32)\n\u001b[1;32m    316\u001b[0m \u001b[39mself\u001b[39m\u001b[39m.\u001b[39mcount \u001b[39m+\u001b[39m\u001b[39m=\u001b[39m \u001b[39m1\u001b[39m\n",
      "File \u001b[0;32m~/sustaingym/sustaingym/tests/../envs/MO_single_agent_battery_storage_env.py:54\u001b[0m, in \u001b[0;36mMarketOperator.get_dispatch\u001b[0;34m(self)\u001b[0m\n\u001b[1;32m     52\u001b[0m obj \u001b[39m+\u001b[39m\u001b[39m=\u001b[39m env\u001b[39m.\u001b[39ma\u001b[39m*\u001b[39mcp\u001b[39m.\u001b[39mmaximum(x_agent, \u001b[39m0\u001b[39m) \u001b[39m+\u001b[39m env\u001b[39m.\u001b[39mb\u001b[39m*\u001b[39mcp\u001b[39m.\u001b[39mminimum(x_agent, \u001b[39m0\u001b[39m)\n\u001b[1;32m     53\u001b[0m objective \u001b[39m=\u001b[39m cp\u001b[39m.\u001b[39mProblem(objective\u001b[39m=\u001b[39mcp\u001b[39m.\u001b[39mMinimize(obj), constraints\u001b[39m=\u001b[39mconstraints)\n\u001b[0;32m---> 54\u001b[0m objective\u001b[39m.\u001b[39;49msolve()\n\u001b[1;32m     55\u001b[0m \u001b[39mreturn\u001b[39;00m x_gens\u001b[39m.\u001b[39mvalue, x_bats\u001b[39m.\u001b[39mvalue, x_agent\u001b[39m.\u001b[39mvalue\n",
      "File \u001b[0;32m~/.conda/envs/sustaingym/lib/python3.9/site-packages/cvxpy/problems/problem.py:481\u001b[0m, in \u001b[0;36mProblem.solve\u001b[0;34m(self, *args, **kwargs)\u001b[0m\n\u001b[1;32m    479\u001b[0m \u001b[39melse\u001b[39;00m:\n\u001b[1;32m    480\u001b[0m     solve_func \u001b[39m=\u001b[39m Problem\u001b[39m.\u001b[39m_solve\n\u001b[0;32m--> 481\u001b[0m \u001b[39mreturn\u001b[39;00m solve_func(\u001b[39mself\u001b[39;49m, \u001b[39m*\u001b[39;49margs, \u001b[39m*\u001b[39;49m\u001b[39m*\u001b[39;49mkwargs)\n",
      "File \u001b[0;32m~/.conda/envs/sustaingym/lib/python3.9/site-packages/cvxpy/problems/problem.py:1007\u001b[0m, in \u001b[0;36mProblem._solve\u001b[0;34m(self, solver, warm_start, verbose, gp, qcp, requires_grad, enforce_dpp, ignore_dpp, **kwargs)\u001b[0m\n\u001b[1;32m   1004\u001b[0m         \u001b[39mself\u001b[39m\u001b[39m.\u001b[39munpack(chain\u001b[39m.\u001b[39mretrieve(soln))\n\u001b[1;32m   1005\u001b[0m         \u001b[39mreturn\u001b[39;00m \u001b[39mself\u001b[39m\u001b[39m.\u001b[39mvalue\n\u001b[0;32m-> 1007\u001b[0m data, solving_chain, inverse_data \u001b[39m=\u001b[39m \u001b[39mself\u001b[39;49m\u001b[39m.\u001b[39;49mget_problem_data(\n\u001b[1;32m   1008\u001b[0m     solver, gp, enforce_dpp, ignore_dpp, verbose)\n\u001b[1;32m   1010\u001b[0m \u001b[39mif\u001b[39;00m verbose:\n\u001b[1;32m   1011\u001b[0m     \u001b[39mprint\u001b[39m(_NUM_SOLVER_STR)\n",
      "File \u001b[0;32m~/.conda/envs/sustaingym/lib/python3.9/site-packages/cvxpy/problems/problem.py:607\u001b[0m, in \u001b[0;36mProblem.get_problem_data\u001b[0;34m(self, solver, gp, enforce_dpp, ignore_dpp, verbose)\u001b[0m\n\u001b[1;32m    605\u001b[0m \u001b[39mif\u001b[39;00m key \u001b[39m!=\u001b[39m \u001b[39mself\u001b[39m\u001b[39m.\u001b[39m_cache\u001b[39m.\u001b[39mkey:\n\u001b[1;32m    606\u001b[0m     \u001b[39mself\u001b[39m\u001b[39m.\u001b[39m_cache\u001b[39m.\u001b[39minvalidate()\n\u001b[0;32m--> 607\u001b[0m     solving_chain \u001b[39m=\u001b[39m \u001b[39mself\u001b[39;49m\u001b[39m.\u001b[39;49m_construct_chain(\n\u001b[1;32m    608\u001b[0m         solver\u001b[39m=\u001b[39;49msolver, gp\u001b[39m=\u001b[39;49mgp,\n\u001b[1;32m    609\u001b[0m         enforce_dpp\u001b[39m=\u001b[39;49menforce_dpp,\n\u001b[1;32m    610\u001b[0m         ignore_dpp\u001b[39m=\u001b[39;49mignore_dpp)\n\u001b[1;32m    611\u001b[0m     \u001b[39mself\u001b[39m\u001b[39m.\u001b[39m_cache\u001b[39m.\u001b[39mkey \u001b[39m=\u001b[39m key\n\u001b[1;32m    612\u001b[0m     \u001b[39mself\u001b[39m\u001b[39m.\u001b[39m_cache\u001b[39m.\u001b[39msolving_chain \u001b[39m=\u001b[39m solving_chain\n",
      "File \u001b[0;32m~/.conda/envs/sustaingym/lib/python3.9/site-packages/cvxpy/problems/problem.py:845\u001b[0m, in \u001b[0;36mProblem._construct_chain\u001b[0;34m(self, solver, gp, enforce_dpp, ignore_dpp)\u001b[0m\n\u001b[1;32m    843\u001b[0m candidate_solvers \u001b[39m=\u001b[39m \u001b[39mself\u001b[39m\u001b[39m.\u001b[39m_find_candidate_solvers(solver\u001b[39m=\u001b[39msolver, gp\u001b[39m=\u001b[39mgp)\n\u001b[1;32m    844\u001b[0m \u001b[39mself\u001b[39m\u001b[39m.\u001b[39m_sort_candidate_solvers(candidate_solvers)\n\u001b[0;32m--> 845\u001b[0m \u001b[39mreturn\u001b[39;00m construct_solving_chain(\u001b[39mself\u001b[39;49m, candidate_solvers, gp\u001b[39m=\u001b[39;49mgp,\n\u001b[1;32m    846\u001b[0m                                enforce_dpp\u001b[39m=\u001b[39;49menforce_dpp,\n\u001b[1;32m    847\u001b[0m                                ignore_dpp\u001b[39m=\u001b[39;49mignore_dpp)\n",
      "File \u001b[0;32m~/.conda/envs/sustaingym/lib/python3.9/site-packages/cvxpy/reductions/solvers/solving_chain.py:162\u001b[0m, in \u001b[0;36mconstruct_solving_chain\u001b[0;34m(problem, candidates, gp, enforce_dpp, ignore_dpp)\u001b[0m\n\u001b[1;32m    160\u001b[0m \u001b[39mif\u001b[39;00m \u001b[39mlen\u001b[39m(problem\u001b[39m.\u001b[39mvariables()) \u001b[39m==\u001b[39m \u001b[39m0\u001b[39m:\n\u001b[1;32m    161\u001b[0m     \u001b[39mreturn\u001b[39;00m SolvingChain(reductions\u001b[39m=\u001b[39m[ConstantSolver()])\n\u001b[0;32m--> 162\u001b[0m reductions \u001b[39m=\u001b[39m _reductions_for_problem_class(problem, candidates, gp)\n\u001b[1;32m    164\u001b[0m \u001b[39m# Process DPP status of the problem.\u001b[39;00m\n\u001b[1;32m    165\u001b[0m dpp_context \u001b[39m=\u001b[39m \u001b[39m'\u001b[39m\u001b[39mdcp\u001b[39m\u001b[39m'\u001b[39m \u001b[39mif\u001b[39;00m \u001b[39mnot\u001b[39;00m gp \u001b[39melse\u001b[39;00m \u001b[39m'\u001b[39m\u001b[39mdgp\u001b[39m\u001b[39m'\u001b[39m\n",
      "File \u001b[0;32m~/.conda/envs/sustaingym/lib/python3.9/site-packages/cvxpy/reductions/solvers/solving_chain.py:94\u001b[0m, in \u001b[0;36m_reductions_for_problem_class\u001b[0;34m(problem, candidates, gp)\u001b[0m\n\u001b[1;32m     91\u001b[0m     \u001b[39melif\u001b[39;00m problem\u001b[39m.\u001b[39mis_dqcp():\n\u001b[1;32m     92\u001b[0m         append \u001b[39m+\u001b[39m\u001b[39m=\u001b[39m (\u001b[39m\"\u001b[39m\u001b[39m\\n\u001b[39;00m\u001b[39mHowever, the problem does follow DQCP rules. \u001b[39m\u001b[39m\"\u001b[39m\n\u001b[1;32m     93\u001b[0m                    \u001b[39m\"\u001b[39m\u001b[39mConsider calling solve() with `qcp=True`.\u001b[39m\u001b[39m\"\u001b[39m)\n\u001b[0;32m---> 94\u001b[0m     \u001b[39mraise\u001b[39;00m DCPError(\n\u001b[1;32m     95\u001b[0m         \u001b[39m\"\u001b[39m\u001b[39mProblem does not follow DCP rules. Specifically:\u001b[39m\u001b[39m\\n\u001b[39;00m\u001b[39m\"\u001b[39m \u001b[39m+\u001b[39m append)\n\u001b[1;32m     96\u001b[0m \u001b[39melif\u001b[39;00m gp \u001b[39mand\u001b[39;00m \u001b[39mnot\u001b[39;00m problem\u001b[39m.\u001b[39mis_dgp():\n\u001b[1;32m     97\u001b[0m     append \u001b[39m=\u001b[39m build_non_disciplined_error_msg(problem, \u001b[39m'\u001b[39m\u001b[39mDGP\u001b[39m\u001b[39m'\u001b[39m)\n",
      "\u001b[0;31mDCPError\u001b[0m: Problem does not follow DCP rules. Specifically:\nThe objective is not DCP. Its following subexpressions are not:\n[3.24139132 2.78392141 1.83641967 0.38025188 2.54828361 2.80479271\n 3.77468992 3.6278362  3.30244562 2.70708105] @ var1[0:10] + [1.74087187 3.07156204 3.00300232 5.09269191] @ maximum(var1[10:14], 0.0) + [1.25631177 1.03553921 0.51253533 0.92000127] @ minimum(0.0, var1[10:14]) + [9.91921616] @ maximum(var1[14], 0.0) + [11.31600189] @ minimum(var1[14], 0.0)"
     ]
    }
   ],
   "source": [
    "\"\"\"\n",
    "Testing environment with stable_baselines3 library\n",
    "\"\"\"\n",
    "import sys\n",
    "sys.path.append('../')\n",
    "\n",
    "from stable_baselines3.common.env_checker import check_env\n",
    "from envs.MO_single_agent_battery_storage_env import BatteryStorageInGridEnv\n",
    "\n",
    "env = BatteryStorageInGridEnv()\n",
    "\n",
    "check_env(env)"
   ]
  }
 ],
 "metadata": {
  "kernelspec": {
   "display_name": "Python 3.9.13 ('sustaingym')",
   "language": "python",
   "name": "python3"
  },
  "language_info": {
   "codemirror_mode": {
    "name": "ipython",
    "version": 3
   },
   "file_extension": ".py",
   "mimetype": "text/x-python",
   "name": "python",
   "nbconvert_exporter": "python",
   "pygments_lexer": "ipython3",
   "version": "3.9.13"
  },
  "orig_nbformat": 4,
  "vscode": {
   "interpreter": {
    "hash": "c910351b0c3a4aade2cf03b555240fe9951314ae7b50b4f56bc279231ceafe8d"
   }
  }
 },
 "nbformat": 4,
 "nbformat_minor": 2
}
