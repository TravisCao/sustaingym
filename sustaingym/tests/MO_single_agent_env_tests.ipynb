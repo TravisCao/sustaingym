{
 "cells": [
  {
   "cell_type": "code",
   "execution_count": 1,
   "metadata": {},
   "outputs": [],
   "source": [
    "%load_ext autoreload\n",
    "%autoreload 2\n",
    "%matplotlib inline"
   ]
  },
  {
   "cell_type": "code",
   "execution_count": 2,
   "metadata": {},
   "outputs": [
    {
     "name": "stderr",
     "output_type": "stream",
     "text": [
      "/home/ubuntu/.conda/envs/sustaingym/lib/python3.9/site-packages/stable_baselines3/common/env_checker.py:272: UserWarning: We recommend you to use a symmetric and normalized Box action space (range=[-1, 1]) cf https://stable-baselines3.readthedocs.io/en/master/guide/rl_tips.html\n",
      "  warnings.warn(\n"
     ]
    }
   ],
   "source": [
    "\"\"\"\n",
    "Testing environment with stable_baselines3 library\n",
    "\"\"\"\n",
    "import sys\n",
    "sys.path.append('../')\n",
    "\n",
    "from stable_baselines3.common.env_checker import check_env\n",
    "from envs.MO_single_agent_battery_storage_env import BatteryStorageInGridEnv\n",
    "\n",
    "env = BatteryStorageInGridEnv()\n",
    "\n",
    "check_env(env)"
   ]
  },
  {
   "cell_type": "code",
   "execution_count": 5,
   "metadata": {},
   "outputs": [
    {
     "name": "stderr",
     "output_type": "stream",
     "text": [
      "  1%|          | 1/100 [00:00<01:08,  1.44it/s]\n"
     ]
    },
    {
     "ename": "IndexError",
     "evalue": "index 288 is out of bounds for axis 0 with size 288",
     "output_type": "error",
     "traceback": [
      "\u001b[0;31m---------------------------------------------------------------------------\u001b[0m",
      "\u001b[0;31mIndexError\u001b[0m                                Traceback (most recent call last)",
      "\u001b[1;32m/home/ubuntu/sustaingym/sustaingym/tests/MO_single_agent_env_tests.ipynb Cell 3\u001b[0m in \u001b[0;36m<cell line: 21>\u001b[0;34m()\u001b[0m\n\u001b[1;32m     <a href='vscode-notebook-cell://ssh-remote%2Bec2-3-137-202-189.us-east-2.compute.amazonaws.com/home/ubuntu/sustaingym/sustaingym/tests/MO_single_agent_env_tests.ipynb#ch0000003vscode-remote?line=27'>28</a>\u001b[0m         action \u001b[39m=\u001b[39m env\u001b[39m.\u001b[39maction_space\u001b[39m.\u001b[39msample()\n\u001b[1;32m     <a href='vscode-notebook-cell://ssh-remote%2Bec2-3-137-202-189.us-east-2.compute.amazonaws.com/home/ubuntu/sustaingym/sustaingym/tests/MO_single_agent_env_tests.ipynb#ch0000003vscode-remote?line=28'>29</a>\u001b[0m         state, reward, done, info \u001b[39m=\u001b[39m env\u001b[39m.\u001b[39mstep(action)\n\u001b[0;32m---> <a href='vscode-notebook-cell://ssh-remote%2Bec2-3-137-202-189.us-east-2.compute.amazonaws.com/home/ubuntu/sustaingym/sustaingym/tests/MO_single_agent_env_tests.ipynb#ch0000003vscode-remote?line=29'>30</a>\u001b[0m         rewards[env\u001b[39m.\u001b[39mcount \u001b[39m-\u001b[39m \u001b[39m1\u001b[39m] \u001b[39m=\u001b[39m reward\n\u001b[1;32m     <a href='vscode-notebook-cell://ssh-remote%2Bec2-3-137-202-189.us-east-2.compute.amazonaws.com/home/ubuntu/sustaingym/sustaingym/tests/MO_single_agent_env_tests.ipynb#ch0000003vscode-remote?line=30'>31</a>\u001b[0m     rewards_lst_1\u001b[39m.\u001b[39mappend(np\u001b[39m.\u001b[39msum(rewards))\n\u001b[1;32m     <a href='vscode-notebook-cell://ssh-remote%2Bec2-3-137-202-189.us-east-2.compute.amazonaws.com/home/ubuntu/sustaingym/sustaingym/tests/MO_single_agent_env_tests.ipynb#ch0000003vscode-remote?line=32'>33</a>\u001b[0m \u001b[39mprint\u001b[39m(rewards_lst_1)\n",
      "\u001b[0;31mIndexError\u001b[0m: index 288 is out of bounds for axis 0 with size 288"
     ]
    }
   ],
   "source": [
    "\"\"\"\n",
    "Testing RL agent which randomly chooses actions\n",
    "\"\"\"\n",
    "import sys\n",
    "sys.path.append('../')\n",
    "from typing import List\n",
    "import numpy as np\n",
    "import os\n",
    "import pandas as pd\n",
    "import gym\n",
    "\n",
    "from tqdm import tqdm\n",
    "import matplotlib.pyplot as plt\n",
    "\n",
    "env = BatteryStorageInGridEnv()\n",
    "\n",
    "episodes = 100\n",
    "\n",
    "rewards_lst_1 = []\n",
    "\n",
    "for i in tqdm(range(episodes)):\n",
    "    ob = env.reset()\n",
    "    done = False\n",
    "    rewards = np.zeros(env.MAX_STEPS_PER_EPISODE)\n",
    "\n",
    "    while not done:\n",
    "        # random action as policy\n",
    "        action = env.action_space.sample()\n",
    "        state, reward, done, info = env.step(action)\n",
    "        rewards[env.count - 1] = reward\n",
    "    rewards_lst_1.append(np.sum(rewards))\n",
    "\n",
    "print(rewards_lst_1)\n",
    "# plot episode # versus total episode reward\n",
    "plt.bar(list(range(episodes)), rewards_lst_1, width=0.5)\n",
    "\n",
    "# naming the x axis \n",
    "plt.xlabel('episode #') \n",
    "# naming the y axis \n",
    "plt.ylabel('total reward')\n",
    "\n",
    "plt.show()"
   ]
  },
  {
   "cell_type": "code",
   "execution_count": null,
   "metadata": {},
   "outputs": [],
   "source": []
  }
 ],
 "metadata": {
  "kernelspec": {
   "display_name": "Python 3.9.13 ('sustaingym')",
   "language": "python",
   "name": "python3"
  },
  "language_info": {
   "codemirror_mode": {
    "name": "ipython",
    "version": 3
   },
   "file_extension": ".py",
   "mimetype": "text/x-python",
   "name": "python",
   "nbconvert_exporter": "python",
   "pygments_lexer": "ipython3",
   "version": "3.9.13"
  },
  "orig_nbformat": 4,
  "vscode": {
   "interpreter": {
    "hash": "c910351b0c3a4aade2cf03b555240fe9951314ae7b50b4f56bc279231ceafe8d"
   }
  }
 },
 "nbformat": 4,
 "nbformat_minor": 2
}
