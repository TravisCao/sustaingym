{
 "cells": [
  {
   "cell_type": "code",
   "execution_count": 25,
   "metadata": {},
   "outputs": [
    {
     "ename": "HTTPError",
     "evalue": "HTTP Error 404: Not Found",
     "output_type": "error",
     "traceback": [
      "\u001b[0;31m---------------------------------------------------------------------------\u001b[0m",
      "\u001b[0;31mHTTPError\u001b[0m                                 Traceback (most recent call last)",
      "\u001b[1;32m/Users/rajeevdatta/Desktop/sustaingym/sustaingym/tests/simple_battery_env_tests.ipynb Cell 1'\u001b[0m in \u001b[0;36m<cell line: 13>\u001b[0;34m()\u001b[0m\n\u001b[1;32m     <a href='vscode-notebook-cell:/Users/rajeevdatta/Desktop/sustaingym/sustaingym/tests/simple_battery_env_tests.ipynb#ch0000000?line=9'>10</a>\u001b[0m \u001b[39mfrom\u001b[39;00m \u001b[39mtqdm\u001b[39;00m \u001b[39mimport\u001b[39;00m tqdm\n\u001b[1;32m     <a href='vscode-notebook-cell:/Users/rajeevdatta/Desktop/sustaingym/sustaingym/tests/simple_battery_env_tests.ipynb#ch0000000?line=10'>11</a>\u001b[0m \u001b[39mimport\u001b[39;00m \u001b[39mmatplotlib\u001b[39;00m\u001b[39m.\u001b[39;00m\u001b[39mpyplot\u001b[39;00m \u001b[39mas\u001b[39;00m \u001b[39mplt\u001b[39;00m\n\u001b[0;32m---> <a href='vscode-notebook-cell:/Users/rajeevdatta/Desktop/sustaingym/sustaingym/tests/simple_battery_env_tests.ipynb#ch0000000?line=12'>13</a>\u001b[0m env \u001b[39m=\u001b[39m BatteryStorageEnv()\n\u001b[1;32m     <a href='vscode-notebook-cell:/Users/rajeevdatta/Desktop/sustaingym/sustaingym/tests/simple_battery_env_tests.ipynb#ch0000000?line=14'>15</a>\u001b[0m episodes \u001b[39m=\u001b[39m \u001b[39m100\u001b[39m\n\u001b[1;32m     <a href='vscode-notebook-cell:/Users/rajeevdatta/Desktop/sustaingym/sustaingym/tests/simple_battery_env_tests.ipynb#ch0000000?line=16'>17</a>\u001b[0m rewards_lst \u001b[39m=\u001b[39m []\n",
      "File \u001b[0;32m~/Desktop/sustaingym/sustaingym/tests/../envs/battery_storage.py:72\u001b[0m, in \u001b[0;36mBatteryStorageEnv.__init__\u001b[0;34m(self, render_mode, env_config)\u001b[0m\n\u001b[1;32m     70\u001b[0m             \u001b[39mraise\u001b[39;00m \u001b[39mKeyError\u001b[39;00m(key)\n\u001b[1;32m     71\u001b[0m \u001b[39m# price dataset\u001b[39;00m\n\u001b[0;32m---> 72\u001b[0m \u001b[39mself\u001b[39m\u001b[39m.\u001b[39mdf_price_data \u001b[39m=\u001b[39m \u001b[39mself\u001b[39;49m\u001b[39m.\u001b[39;49m_get_pricing_data()\n\u001b[1;32m     73\u001b[0m \u001b[39m# number of prices in dataset\u001b[39;00m\n\u001b[1;32m     74\u001b[0m \u001b[39mself\u001b[39m\u001b[39m.\u001b[39mprice_data_len \u001b[39m=\u001b[39m \u001b[39mself\u001b[39m\u001b[39m.\u001b[39mdf_price_data\u001b[39m.\u001b[39mshape[\u001b[39m0\u001b[39m]\n",
      "File \u001b[0;32m~/Desktop/sustaingym/sustaingym/tests/../envs/battery_storage.py:102\u001b[0m, in \u001b[0;36mBatteryStorageEnv._get_pricing_data\u001b[0;34m(self)\u001b[0m\n\u001b[1;32m     99\u001b[0m     \u001b[39mreturn\u001b[39;00m pd\u001b[39m.\u001b[39mread_csv(\u001b[39mself\u001b[39m\u001b[39m.\u001b[39mFILE_PATH)\n\u001b[1;32m    100\u001b[0m \u001b[39melse\u001b[39;00m:\n\u001b[1;32m    101\u001b[0m     \u001b[39m# df = pd.read_csv(r'data/pricing_data_2022.csv')\u001b[39;00m\n\u001b[0;32m--> 102\u001b[0m     df \u001b[39m=\u001b[39m pd\u001b[39m.\u001b[39;49mread_csv(\n\u001b[1;32m    103\u001b[0m         \u001b[39m\"\u001b[39;49m\u001b[39mhttps://raw.githubusercontent.com/chrisyeh96/sustaingym/electricitymarket/sustaingym/envs/data/pricing_data_2022.csv?token=GHSAT0AAAAAABV2EK7S72E6RV6HWRF5ZQBOYV2WKWQ\u001b[39;49m\u001b[39m\"\u001b[39;49m\n\u001b[1;32m    104\u001b[0m     )\n\u001b[1;32m    105\u001b[0m     df_prices \u001b[39m=\u001b[39m df\u001b[39m.\u001b[39mloc[df[\u001b[39m'\u001b[39m\u001b[39mGROUP\u001b[39m\u001b[39m'\u001b[39m] \u001b[39m%\u001b[39m \u001b[39m5\u001b[39m \u001b[39m==\u001b[39m \u001b[39m0\u001b[39m]\n\u001b[1;32m    106\u001b[0m     \u001b[39mreturn\u001b[39;00m df_prices\n",
      "File \u001b[0;32m~/opt/anaconda3/envs/sustaingym_norl/lib/python3.9/site-packages/pandas/io/parsers.py:688\u001b[0m, in \u001b[0;36mread_csv\u001b[0;34m(filepath_or_buffer, sep, delimiter, header, names, index_col, usecols, squeeze, prefix, mangle_dupe_cols, dtype, engine, converters, true_values, false_values, skipinitialspace, skiprows, skipfooter, nrows, na_values, keep_default_na, na_filter, verbose, skip_blank_lines, parse_dates, infer_datetime_format, keep_date_col, date_parser, dayfirst, cache_dates, iterator, chunksize, compression, thousands, decimal, lineterminator, quotechar, quoting, doublequote, escapechar, comment, encoding, dialect, error_bad_lines, warn_bad_lines, delim_whitespace, low_memory, memory_map, float_precision)\u001b[0m\n\u001b[1;32m    635\u001b[0m     engine_specified \u001b[39m=\u001b[39m \u001b[39mFalse\u001b[39;00m\n\u001b[1;32m    637\u001b[0m kwds\u001b[39m.\u001b[39mupdate(\n\u001b[1;32m    638\u001b[0m     delimiter\u001b[39m=\u001b[39mdelimiter,\n\u001b[1;32m    639\u001b[0m     engine\u001b[39m=\u001b[39mengine,\n\u001b[0;32m   (...)\u001b[0m\n\u001b[1;32m    685\u001b[0m     skip_blank_lines\u001b[39m=\u001b[39mskip_blank_lines,\n\u001b[1;32m    686\u001b[0m )\n\u001b[0;32m--> 688\u001b[0m \u001b[39mreturn\u001b[39;00m _read(filepath_or_buffer, kwds)\n",
      "File \u001b[0;32m~/opt/anaconda3/envs/sustaingym_norl/lib/python3.9/site-packages/pandas/io/parsers.py:436\u001b[0m, in \u001b[0;36m_read\u001b[0;34m(filepath_or_buffer, kwds)\u001b[0m\n\u001b[1;32m    430\u001b[0m compression \u001b[39m=\u001b[39m infer_compression(filepath_or_buffer, compression)\n\u001b[1;32m    432\u001b[0m \u001b[39m# TODO: get_filepath_or_buffer could return\u001b[39;00m\n\u001b[1;32m    433\u001b[0m \u001b[39m# Union[FilePathOrBuffer, s3fs.S3File, gcsfs.GCSFile]\u001b[39;00m\n\u001b[1;32m    434\u001b[0m \u001b[39m# though mypy handling of conditional imports is difficult.\u001b[39;00m\n\u001b[1;32m    435\u001b[0m \u001b[39m# See https://github.com/python/mypy/issues/1297\u001b[39;00m\n\u001b[0;32m--> 436\u001b[0m fp_or_buf, _, compression, should_close \u001b[39m=\u001b[39m get_filepath_or_buffer(\n\u001b[1;32m    437\u001b[0m     filepath_or_buffer, encoding, compression\n\u001b[1;32m    438\u001b[0m )\n\u001b[1;32m    439\u001b[0m kwds[\u001b[39m\"\u001b[39m\u001b[39mcompression\u001b[39m\u001b[39m\"\u001b[39m] \u001b[39m=\u001b[39m compression\n\u001b[1;32m    441\u001b[0m \u001b[39mif\u001b[39;00m kwds\u001b[39m.\u001b[39mget(\u001b[39m\"\u001b[39m\u001b[39mdate_parser\u001b[39m\u001b[39m\"\u001b[39m, \u001b[39mNone\u001b[39;00m) \u001b[39mis\u001b[39;00m \u001b[39mnot\u001b[39;00m \u001b[39mNone\u001b[39;00m:\n",
      "File \u001b[0;32m~/opt/anaconda3/envs/sustaingym_norl/lib/python3.9/site-packages/pandas/io/common.py:183\u001b[0m, in \u001b[0;36mget_filepath_or_buffer\u001b[0;34m(filepath_or_buffer, encoding, compression, mode, storage_options)\u001b[0m\n\u001b[1;32m    179\u001b[0m filepath_or_buffer \u001b[39m=\u001b[39m stringify_path(filepath_or_buffer)\n\u001b[1;32m    181\u001b[0m \u001b[39mif\u001b[39;00m \u001b[39misinstance\u001b[39m(filepath_or_buffer, \u001b[39mstr\u001b[39m) \u001b[39mand\u001b[39;00m is_url(filepath_or_buffer):\n\u001b[1;32m    182\u001b[0m     \u001b[39m# TODO: fsspec can also handle HTTP via requests, but leaving this unchanged\u001b[39;00m\n\u001b[0;32m--> 183\u001b[0m     req \u001b[39m=\u001b[39m urlopen(filepath_or_buffer)\n\u001b[1;32m    184\u001b[0m     content_encoding \u001b[39m=\u001b[39m req\u001b[39m.\u001b[39mheaders\u001b[39m.\u001b[39mget(\u001b[39m\"\u001b[39m\u001b[39mContent-Encoding\u001b[39m\u001b[39m\"\u001b[39m, \u001b[39mNone\u001b[39;00m)\n\u001b[1;32m    185\u001b[0m     \u001b[39mif\u001b[39;00m content_encoding \u001b[39m==\u001b[39m \u001b[39m\"\u001b[39m\u001b[39mgzip\u001b[39m\u001b[39m\"\u001b[39m:\n\u001b[1;32m    186\u001b[0m         \u001b[39m# Override compression based on Content-Encoding header\u001b[39;00m\n",
      "File \u001b[0;32m~/opt/anaconda3/envs/sustaingym_norl/lib/python3.9/site-packages/pandas/io/common.py:137\u001b[0m, in \u001b[0;36murlopen\u001b[0;34m(*args, **kwargs)\u001b[0m\n\u001b[1;32m    131\u001b[0m \u001b[39m\"\"\"\u001b[39;00m\n\u001b[1;32m    132\u001b[0m \u001b[39mLazy-import wrapper for stdlib urlopen, as that imports a big chunk of\u001b[39;00m\n\u001b[1;32m    133\u001b[0m \u001b[39mthe stdlib.\u001b[39;00m\n\u001b[1;32m    134\u001b[0m \u001b[39m\"\"\"\u001b[39;00m\n\u001b[1;32m    135\u001b[0m \u001b[39mimport\u001b[39;00m \u001b[39murllib\u001b[39;00m\u001b[39m.\u001b[39;00m\u001b[39mrequest\u001b[39;00m\n\u001b[0;32m--> 137\u001b[0m \u001b[39mreturn\u001b[39;00m urllib\u001b[39m.\u001b[39;49mrequest\u001b[39m.\u001b[39;49murlopen(\u001b[39m*\u001b[39;49margs, \u001b[39m*\u001b[39;49m\u001b[39m*\u001b[39;49mkwargs)\n",
      "File \u001b[0;32m~/opt/anaconda3/envs/sustaingym_norl/lib/python3.9/urllib/request.py:214\u001b[0m, in \u001b[0;36murlopen\u001b[0;34m(url, data, timeout, cafile, capath, cadefault, context)\u001b[0m\n\u001b[1;32m    212\u001b[0m \u001b[39melse\u001b[39;00m:\n\u001b[1;32m    213\u001b[0m     opener \u001b[39m=\u001b[39m _opener\n\u001b[0;32m--> 214\u001b[0m \u001b[39mreturn\u001b[39;00m opener\u001b[39m.\u001b[39;49mopen(url, data, timeout)\n",
      "File \u001b[0;32m~/opt/anaconda3/envs/sustaingym_norl/lib/python3.9/urllib/request.py:523\u001b[0m, in \u001b[0;36mOpenerDirector.open\u001b[0;34m(self, fullurl, data, timeout)\u001b[0m\n\u001b[1;32m    521\u001b[0m \u001b[39mfor\u001b[39;00m processor \u001b[39min\u001b[39;00m \u001b[39mself\u001b[39m\u001b[39m.\u001b[39mprocess_response\u001b[39m.\u001b[39mget(protocol, []):\n\u001b[1;32m    522\u001b[0m     meth \u001b[39m=\u001b[39m \u001b[39mgetattr\u001b[39m(processor, meth_name)\n\u001b[0;32m--> 523\u001b[0m     response \u001b[39m=\u001b[39m meth(req, response)\n\u001b[1;32m    525\u001b[0m \u001b[39mreturn\u001b[39;00m response\n",
      "File \u001b[0;32m~/opt/anaconda3/envs/sustaingym_norl/lib/python3.9/urllib/request.py:632\u001b[0m, in \u001b[0;36mHTTPErrorProcessor.http_response\u001b[0;34m(self, request, response)\u001b[0m\n\u001b[1;32m    629\u001b[0m \u001b[39m# According to RFC 2616, \"2xx\" code indicates that the client's\u001b[39;00m\n\u001b[1;32m    630\u001b[0m \u001b[39m# request was successfully received, understood, and accepted.\u001b[39;00m\n\u001b[1;32m    631\u001b[0m \u001b[39mif\u001b[39;00m \u001b[39mnot\u001b[39;00m (\u001b[39m200\u001b[39m \u001b[39m<\u001b[39m\u001b[39m=\u001b[39m code \u001b[39m<\u001b[39m \u001b[39m300\u001b[39m):\n\u001b[0;32m--> 632\u001b[0m     response \u001b[39m=\u001b[39m \u001b[39mself\u001b[39;49m\u001b[39m.\u001b[39;49mparent\u001b[39m.\u001b[39;49merror(\n\u001b[1;32m    633\u001b[0m         \u001b[39m'\u001b[39;49m\u001b[39mhttp\u001b[39;49m\u001b[39m'\u001b[39;49m, request, response, code, msg, hdrs)\n\u001b[1;32m    635\u001b[0m \u001b[39mreturn\u001b[39;00m response\n",
      "File \u001b[0;32m~/opt/anaconda3/envs/sustaingym_norl/lib/python3.9/urllib/request.py:561\u001b[0m, in \u001b[0;36mOpenerDirector.error\u001b[0;34m(self, proto, *args)\u001b[0m\n\u001b[1;32m    559\u001b[0m \u001b[39mif\u001b[39;00m http_err:\n\u001b[1;32m    560\u001b[0m     args \u001b[39m=\u001b[39m (\u001b[39mdict\u001b[39m, \u001b[39m'\u001b[39m\u001b[39mdefault\u001b[39m\u001b[39m'\u001b[39m, \u001b[39m'\u001b[39m\u001b[39mhttp_error_default\u001b[39m\u001b[39m'\u001b[39m) \u001b[39m+\u001b[39m orig_args\n\u001b[0;32m--> 561\u001b[0m     \u001b[39mreturn\u001b[39;00m \u001b[39mself\u001b[39;49m\u001b[39m.\u001b[39;49m_call_chain(\u001b[39m*\u001b[39;49margs)\n",
      "File \u001b[0;32m~/opt/anaconda3/envs/sustaingym_norl/lib/python3.9/urllib/request.py:494\u001b[0m, in \u001b[0;36mOpenerDirector._call_chain\u001b[0;34m(self, chain, kind, meth_name, *args)\u001b[0m\n\u001b[1;32m    492\u001b[0m \u001b[39mfor\u001b[39;00m handler \u001b[39min\u001b[39;00m handlers:\n\u001b[1;32m    493\u001b[0m     func \u001b[39m=\u001b[39m \u001b[39mgetattr\u001b[39m(handler, meth_name)\n\u001b[0;32m--> 494\u001b[0m     result \u001b[39m=\u001b[39m func(\u001b[39m*\u001b[39;49margs)\n\u001b[1;32m    495\u001b[0m     \u001b[39mif\u001b[39;00m result \u001b[39mis\u001b[39;00m \u001b[39mnot\u001b[39;00m \u001b[39mNone\u001b[39;00m:\n\u001b[1;32m    496\u001b[0m         \u001b[39mreturn\u001b[39;00m result\n",
      "File \u001b[0;32m~/opt/anaconda3/envs/sustaingym_norl/lib/python3.9/urllib/request.py:641\u001b[0m, in \u001b[0;36mHTTPDefaultErrorHandler.http_error_default\u001b[0;34m(self, req, fp, code, msg, hdrs)\u001b[0m\n\u001b[1;32m    640\u001b[0m \u001b[39mdef\u001b[39;00m \u001b[39mhttp_error_default\u001b[39m(\u001b[39mself\u001b[39m, req, fp, code, msg, hdrs):\n\u001b[0;32m--> 641\u001b[0m     \u001b[39mraise\u001b[39;00m HTTPError(req\u001b[39m.\u001b[39mfull_url, code, msg, hdrs, fp)\n",
      "\u001b[0;31mHTTPError\u001b[0m: HTTP Error 404: Not Found"
     ]
    }
   ],
   "source": [
    "%matplotlib inline\n",
    "import sys\n",
    "sys.path.append('../')\n",
    "from typing import List\n",
    "import numpy as np\n",
    "import os\n",
    "import pandas as pd\n",
    "import gym\n",
    "from envs.battery_storage import BatteryStorageEnv\n",
    "from tqdm import tqdm\n",
    "import matplotlib.pyplot as plt\n",
    "\n",
    "env = BatteryStorageEnv()\n",
    "\n",
    "episodes = 100\n",
    "\n",
    "rewards_lst = []\n",
    "\n",
    "for i in tqdm(range(episodes)):\n",
    "    ob = env.reset()\n",
    "    done = False\n",
    "    rewards = np.zeros(env.MAX_STEPS_PER_EPISODE)\n",
    "\n",
    "    while not done:\n",
    "        # random action as policy\n",
    "        action = env.action_space.sample()\n",
    "        state, reward, done, info = env.step(action)\n",
    "        rewards[env.count - 1] = reward\n",
    "    rewards_lst.append(np.sum(rewards))\n",
    "\n",
    "# plot episode # versus total episode reward\n",
    "plt.plot(list(range(episodes)), rewards_lst)\n",
    "\n",
    "# naming the x axis \n",
    "plt.xlabel('episode #') \n",
    "# naming the y axis \n",
    "plt.ylabel('total reward')\n",
    "\n",
    "plt.show()"
   ]
  },
  {
   "cell_type": "code",
   "execution_count": 20,
   "metadata": {},
   "outputs": [
    {
     "ename": "HTTPError",
     "evalue": "HTTP Error 404: Not Found",
     "output_type": "error",
     "traceback": [
      "\u001b[0;31m---------------------------------------------------------------------------\u001b[0m",
      "\u001b[0;31mHTTPError\u001b[0m                                 Traceback (most recent call last)",
      "\u001b[1;32m/Users/rajeevdatta/Desktop/sustaingym/sustaingym/tests/simple_battery_env_tests.ipynb Cell 2'\u001b[0m in \u001b[0;36m<cell line: 13>\u001b[0;34m()\u001b[0m\n\u001b[1;32m     <a href='vscode-notebook-cell:/Users/rajeevdatta/Desktop/sustaingym/sustaingym/tests/simple_battery_env_tests.ipynb#ch0000001?line=9'>10</a>\u001b[0m \u001b[39mfrom\u001b[39;00m \u001b[39mtqdm\u001b[39;00m \u001b[39mimport\u001b[39;00m tqdm\n\u001b[1;32m     <a href='vscode-notebook-cell:/Users/rajeevdatta/Desktop/sustaingym/sustaingym/tests/simple_battery_env_tests.ipynb#ch0000001?line=10'>11</a>\u001b[0m \u001b[39mimport\u001b[39;00m \u001b[39mmatplotlib\u001b[39;00m\u001b[39m.\u001b[39;00m\u001b[39mpyplot\u001b[39;00m \u001b[39mas\u001b[39;00m \u001b[39mplt\u001b[39;00m\n\u001b[0;32m---> <a href='vscode-notebook-cell:/Users/rajeevdatta/Desktop/sustaingym/sustaingym/tests/simple_battery_env_tests.ipynb#ch0000001?line=12'>13</a>\u001b[0m env \u001b[39m=\u001b[39m BatteryStorageEnv()\n\u001b[1;32m     <a href='vscode-notebook-cell:/Users/rajeevdatta/Desktop/sustaingym/sustaingym/tests/simple_battery_env_tests.ipynb#ch0000001?line=14'>15</a>\u001b[0m episodes \u001b[39m=\u001b[39m \u001b[39m100\u001b[39m\n\u001b[1;32m     <a href='vscode-notebook-cell:/Users/rajeevdatta/Desktop/sustaingym/sustaingym/tests/simple_battery_env_tests.ipynb#ch0000001?line=16'>17</a>\u001b[0m rewards_lst \u001b[39m=\u001b[39m []\n",
      "File \u001b[0;32m~/Desktop/sustaingym/sustaingym/tests/../envs/battery_storage.py:72\u001b[0m, in \u001b[0;36mBatteryStorageEnv.__init__\u001b[0;34m(self, render_mode, env_config)\u001b[0m\n\u001b[1;32m     70\u001b[0m             \u001b[39mraise\u001b[39;00m \u001b[39mKeyError\u001b[39;00m(key)\n\u001b[1;32m     71\u001b[0m \u001b[39m# price dataset\u001b[39;00m\n\u001b[0;32m---> 72\u001b[0m \u001b[39mself\u001b[39m\u001b[39m.\u001b[39mdf_price_data \u001b[39m=\u001b[39m \u001b[39mself\u001b[39;49m\u001b[39m.\u001b[39;49m_get_pricing_data()\n\u001b[1;32m     73\u001b[0m \u001b[39m# number of prices in dataset\u001b[39;00m\n\u001b[1;32m     74\u001b[0m \u001b[39mself\u001b[39m\u001b[39m.\u001b[39mprice_data_len \u001b[39m=\u001b[39m \u001b[39mself\u001b[39m\u001b[39m.\u001b[39mdf_price_data\u001b[39m.\u001b[39mshape[\u001b[39m0\u001b[39m]\n",
      "File \u001b[0;32m~/Desktop/sustaingym/sustaingym/tests/../envs/battery_storage.py:102\u001b[0m, in \u001b[0;36mBatteryStorageEnv._get_pricing_data\u001b[0;34m(self)\u001b[0m\n\u001b[1;32m     99\u001b[0m     \u001b[39mreturn\u001b[39;00m pd\u001b[39m.\u001b[39mread_csv(\u001b[39mself\u001b[39m\u001b[39m.\u001b[39mFILE_PATH)\n\u001b[1;32m    100\u001b[0m \u001b[39melse\u001b[39;00m:\n\u001b[1;32m    101\u001b[0m     \u001b[39m# df = pd.read_csv(r'data/pricing_data_2022.csv')\u001b[39;00m\n\u001b[0;32m--> 102\u001b[0m     df \u001b[39m=\u001b[39m pd\u001b[39m.\u001b[39;49mread_csv(\n\u001b[1;32m    103\u001b[0m         \u001b[39m\"\u001b[39;49m\u001b[39mhttps://raw.githubusercontent.com/chrisyeh96/sustaingym/electricitymarket/sustaingym/envs/data/pricing_data_2022.csv?token=GHSAT0AAAAAABV2EK7S72E6RV6HWRF5ZQBOYV2WKWQ\u001b[39;49m\u001b[39m\"\u001b[39;49m\n\u001b[1;32m    104\u001b[0m     )\n\u001b[1;32m    105\u001b[0m     df_prices \u001b[39m=\u001b[39m df\u001b[39m.\u001b[39mloc[df[\u001b[39m'\u001b[39m\u001b[39mGROUP\u001b[39m\u001b[39m'\u001b[39m] \u001b[39m%\u001b[39m \u001b[39m5\u001b[39m \u001b[39m==\u001b[39m \u001b[39m0\u001b[39m]\n\u001b[1;32m    106\u001b[0m     \u001b[39mreturn\u001b[39;00m df_prices\n",
      "File \u001b[0;32m~/opt/anaconda3/envs/sustaingym_norl/lib/python3.9/site-packages/pandas/io/parsers.py:688\u001b[0m, in \u001b[0;36mread_csv\u001b[0;34m(filepath_or_buffer, sep, delimiter, header, names, index_col, usecols, squeeze, prefix, mangle_dupe_cols, dtype, engine, converters, true_values, false_values, skipinitialspace, skiprows, skipfooter, nrows, na_values, keep_default_na, na_filter, verbose, skip_blank_lines, parse_dates, infer_datetime_format, keep_date_col, date_parser, dayfirst, cache_dates, iterator, chunksize, compression, thousands, decimal, lineterminator, quotechar, quoting, doublequote, escapechar, comment, encoding, dialect, error_bad_lines, warn_bad_lines, delim_whitespace, low_memory, memory_map, float_precision)\u001b[0m\n\u001b[1;32m    635\u001b[0m     engine_specified \u001b[39m=\u001b[39m \u001b[39mFalse\u001b[39;00m\n\u001b[1;32m    637\u001b[0m kwds\u001b[39m.\u001b[39mupdate(\n\u001b[1;32m    638\u001b[0m     delimiter\u001b[39m=\u001b[39mdelimiter,\n\u001b[1;32m    639\u001b[0m     engine\u001b[39m=\u001b[39mengine,\n\u001b[0;32m   (...)\u001b[0m\n\u001b[1;32m    685\u001b[0m     skip_blank_lines\u001b[39m=\u001b[39mskip_blank_lines,\n\u001b[1;32m    686\u001b[0m )\n\u001b[0;32m--> 688\u001b[0m \u001b[39mreturn\u001b[39;00m _read(filepath_or_buffer, kwds)\n",
      "File \u001b[0;32m~/opt/anaconda3/envs/sustaingym_norl/lib/python3.9/site-packages/pandas/io/parsers.py:436\u001b[0m, in \u001b[0;36m_read\u001b[0;34m(filepath_or_buffer, kwds)\u001b[0m\n\u001b[1;32m    430\u001b[0m compression \u001b[39m=\u001b[39m infer_compression(filepath_or_buffer, compression)\n\u001b[1;32m    432\u001b[0m \u001b[39m# TODO: get_filepath_or_buffer could return\u001b[39;00m\n\u001b[1;32m    433\u001b[0m \u001b[39m# Union[FilePathOrBuffer, s3fs.S3File, gcsfs.GCSFile]\u001b[39;00m\n\u001b[1;32m    434\u001b[0m \u001b[39m# though mypy handling of conditional imports is difficult.\u001b[39;00m\n\u001b[1;32m    435\u001b[0m \u001b[39m# See https://github.com/python/mypy/issues/1297\u001b[39;00m\n\u001b[0;32m--> 436\u001b[0m fp_or_buf, _, compression, should_close \u001b[39m=\u001b[39m get_filepath_or_buffer(\n\u001b[1;32m    437\u001b[0m     filepath_or_buffer, encoding, compression\n\u001b[1;32m    438\u001b[0m )\n\u001b[1;32m    439\u001b[0m kwds[\u001b[39m\"\u001b[39m\u001b[39mcompression\u001b[39m\u001b[39m\"\u001b[39m] \u001b[39m=\u001b[39m compression\n\u001b[1;32m    441\u001b[0m \u001b[39mif\u001b[39;00m kwds\u001b[39m.\u001b[39mget(\u001b[39m\"\u001b[39m\u001b[39mdate_parser\u001b[39m\u001b[39m\"\u001b[39m, \u001b[39mNone\u001b[39;00m) \u001b[39mis\u001b[39;00m \u001b[39mnot\u001b[39;00m \u001b[39mNone\u001b[39;00m:\n",
      "File \u001b[0;32m~/opt/anaconda3/envs/sustaingym_norl/lib/python3.9/site-packages/pandas/io/common.py:183\u001b[0m, in \u001b[0;36mget_filepath_or_buffer\u001b[0;34m(filepath_or_buffer, encoding, compression, mode, storage_options)\u001b[0m\n\u001b[1;32m    179\u001b[0m filepath_or_buffer \u001b[39m=\u001b[39m stringify_path(filepath_or_buffer)\n\u001b[1;32m    181\u001b[0m \u001b[39mif\u001b[39;00m \u001b[39misinstance\u001b[39m(filepath_or_buffer, \u001b[39mstr\u001b[39m) \u001b[39mand\u001b[39;00m is_url(filepath_or_buffer):\n\u001b[1;32m    182\u001b[0m     \u001b[39m# TODO: fsspec can also handle HTTP via requests, but leaving this unchanged\u001b[39;00m\n\u001b[0;32m--> 183\u001b[0m     req \u001b[39m=\u001b[39m urlopen(filepath_or_buffer)\n\u001b[1;32m    184\u001b[0m     content_encoding \u001b[39m=\u001b[39m req\u001b[39m.\u001b[39mheaders\u001b[39m.\u001b[39mget(\u001b[39m\"\u001b[39m\u001b[39mContent-Encoding\u001b[39m\u001b[39m\"\u001b[39m, \u001b[39mNone\u001b[39;00m)\n\u001b[1;32m    185\u001b[0m     \u001b[39mif\u001b[39;00m content_encoding \u001b[39m==\u001b[39m \u001b[39m\"\u001b[39m\u001b[39mgzip\u001b[39m\u001b[39m\"\u001b[39m:\n\u001b[1;32m    186\u001b[0m         \u001b[39m# Override compression based on Content-Encoding header\u001b[39;00m\n",
      "File \u001b[0;32m~/opt/anaconda3/envs/sustaingym_norl/lib/python3.9/site-packages/pandas/io/common.py:137\u001b[0m, in \u001b[0;36murlopen\u001b[0;34m(*args, **kwargs)\u001b[0m\n\u001b[1;32m    131\u001b[0m \u001b[39m\"\"\"\u001b[39;00m\n\u001b[1;32m    132\u001b[0m \u001b[39mLazy-import wrapper for stdlib urlopen, as that imports a big chunk of\u001b[39;00m\n\u001b[1;32m    133\u001b[0m \u001b[39mthe stdlib.\u001b[39;00m\n\u001b[1;32m    134\u001b[0m \u001b[39m\"\"\"\u001b[39;00m\n\u001b[1;32m    135\u001b[0m \u001b[39mimport\u001b[39;00m \u001b[39murllib\u001b[39;00m\u001b[39m.\u001b[39;00m\u001b[39mrequest\u001b[39;00m\n\u001b[0;32m--> 137\u001b[0m \u001b[39mreturn\u001b[39;00m urllib\u001b[39m.\u001b[39;49mrequest\u001b[39m.\u001b[39;49murlopen(\u001b[39m*\u001b[39;49margs, \u001b[39m*\u001b[39;49m\u001b[39m*\u001b[39;49mkwargs)\n",
      "File \u001b[0;32m~/opt/anaconda3/envs/sustaingym_norl/lib/python3.9/urllib/request.py:214\u001b[0m, in \u001b[0;36murlopen\u001b[0;34m(url, data, timeout, cafile, capath, cadefault, context)\u001b[0m\n\u001b[1;32m    212\u001b[0m \u001b[39melse\u001b[39;00m:\n\u001b[1;32m    213\u001b[0m     opener \u001b[39m=\u001b[39m _opener\n\u001b[0;32m--> 214\u001b[0m \u001b[39mreturn\u001b[39;00m opener\u001b[39m.\u001b[39;49mopen(url, data, timeout)\n",
      "File \u001b[0;32m~/opt/anaconda3/envs/sustaingym_norl/lib/python3.9/urllib/request.py:523\u001b[0m, in \u001b[0;36mOpenerDirector.open\u001b[0;34m(self, fullurl, data, timeout)\u001b[0m\n\u001b[1;32m    521\u001b[0m \u001b[39mfor\u001b[39;00m processor \u001b[39min\u001b[39;00m \u001b[39mself\u001b[39m\u001b[39m.\u001b[39mprocess_response\u001b[39m.\u001b[39mget(protocol, []):\n\u001b[1;32m    522\u001b[0m     meth \u001b[39m=\u001b[39m \u001b[39mgetattr\u001b[39m(processor, meth_name)\n\u001b[0;32m--> 523\u001b[0m     response \u001b[39m=\u001b[39m meth(req, response)\n\u001b[1;32m    525\u001b[0m \u001b[39mreturn\u001b[39;00m response\n",
      "File \u001b[0;32m~/opt/anaconda3/envs/sustaingym_norl/lib/python3.9/urllib/request.py:632\u001b[0m, in \u001b[0;36mHTTPErrorProcessor.http_response\u001b[0;34m(self, request, response)\u001b[0m\n\u001b[1;32m    629\u001b[0m \u001b[39m# According to RFC 2616, \"2xx\" code indicates that the client's\u001b[39;00m\n\u001b[1;32m    630\u001b[0m \u001b[39m# request was successfully received, understood, and accepted.\u001b[39;00m\n\u001b[1;32m    631\u001b[0m \u001b[39mif\u001b[39;00m \u001b[39mnot\u001b[39;00m (\u001b[39m200\u001b[39m \u001b[39m<\u001b[39m\u001b[39m=\u001b[39m code \u001b[39m<\u001b[39m \u001b[39m300\u001b[39m):\n\u001b[0;32m--> 632\u001b[0m     response \u001b[39m=\u001b[39m \u001b[39mself\u001b[39;49m\u001b[39m.\u001b[39;49mparent\u001b[39m.\u001b[39;49merror(\n\u001b[1;32m    633\u001b[0m         \u001b[39m'\u001b[39;49m\u001b[39mhttp\u001b[39;49m\u001b[39m'\u001b[39;49m, request, response, code, msg, hdrs)\n\u001b[1;32m    635\u001b[0m \u001b[39mreturn\u001b[39;00m response\n",
      "File \u001b[0;32m~/opt/anaconda3/envs/sustaingym_norl/lib/python3.9/urllib/request.py:561\u001b[0m, in \u001b[0;36mOpenerDirector.error\u001b[0;34m(self, proto, *args)\u001b[0m\n\u001b[1;32m    559\u001b[0m \u001b[39mif\u001b[39;00m http_err:\n\u001b[1;32m    560\u001b[0m     args \u001b[39m=\u001b[39m (\u001b[39mdict\u001b[39m, \u001b[39m'\u001b[39m\u001b[39mdefault\u001b[39m\u001b[39m'\u001b[39m, \u001b[39m'\u001b[39m\u001b[39mhttp_error_default\u001b[39m\u001b[39m'\u001b[39m) \u001b[39m+\u001b[39m orig_args\n\u001b[0;32m--> 561\u001b[0m     \u001b[39mreturn\u001b[39;00m \u001b[39mself\u001b[39;49m\u001b[39m.\u001b[39;49m_call_chain(\u001b[39m*\u001b[39;49margs)\n",
      "File \u001b[0;32m~/opt/anaconda3/envs/sustaingym_norl/lib/python3.9/urllib/request.py:494\u001b[0m, in \u001b[0;36mOpenerDirector._call_chain\u001b[0;34m(self, chain, kind, meth_name, *args)\u001b[0m\n\u001b[1;32m    492\u001b[0m \u001b[39mfor\u001b[39;00m handler \u001b[39min\u001b[39;00m handlers:\n\u001b[1;32m    493\u001b[0m     func \u001b[39m=\u001b[39m \u001b[39mgetattr\u001b[39m(handler, meth_name)\n\u001b[0;32m--> 494\u001b[0m     result \u001b[39m=\u001b[39m func(\u001b[39m*\u001b[39;49margs)\n\u001b[1;32m    495\u001b[0m     \u001b[39mif\u001b[39;00m result \u001b[39mis\u001b[39;00m \u001b[39mnot\u001b[39;00m \u001b[39mNone\u001b[39;00m:\n\u001b[1;32m    496\u001b[0m         \u001b[39mreturn\u001b[39;00m result\n",
      "File \u001b[0;32m~/opt/anaconda3/envs/sustaingym_norl/lib/python3.9/urllib/request.py:641\u001b[0m, in \u001b[0;36mHTTPDefaultErrorHandler.http_error_default\u001b[0;34m(self, req, fp, code, msg, hdrs)\u001b[0m\n\u001b[1;32m    640\u001b[0m \u001b[39mdef\u001b[39;00m \u001b[39mhttp_error_default\u001b[39m(\u001b[39mself\u001b[39m, req, fp, code, msg, hdrs):\n\u001b[0;32m--> 641\u001b[0m     \u001b[39mraise\u001b[39;00m HTTPError(req\u001b[39m.\u001b[39mfull_url, code, msg, hdrs, fp)\n",
      "\u001b[0;31mHTTPError\u001b[0m: HTTP Error 404: Not Found"
     ]
    }
   ],
   "source": [
    "%matplotlib inline\n",
    "import sys\n",
    "sys.path.append('../')\n",
    "from typing import List\n",
    "import numpy as np\n",
    "import os\n",
    "import pandas as pd\n",
    "import gym\n",
    "from envs.battery_storage import BatteryStorageEnv\n",
    "from tqdm import tqdm\n",
    "import matplotlib.pyplot as plt\n",
    "\n",
    "env = BatteryStorageEnv()\n",
    "\n",
    "episodes = 100\n",
    "\n",
    "rewards_lst = []\n",
    "\n",
    "for i in tqdm(range(episodes)):\n",
    "    ob = env.reset()\n",
    "    done = False\n",
    "    start = True\n",
    "    rewards = np.zeros(env.MAX_STEPS_PER_EPISODE)\n",
    "    avg = np.zeros(1)\n",
    "\n",
    "    while not done:\n",
    "        if start:\n",
    "            action = env.action_space.sample()\n",
    "            state, reward, done, info = env.step(action)\n",
    "            avg = info\n",
    "            start = False\n",
    "        else:\n",
    "            if env.curr_price >= avg:\n",
    "                action = np.random.uniform(env.action_space.low, 0.0)\n",
    "            else:\n",
    "                action = np.random.uniform(0.0, env.action_space.high)\n",
    "            state, reward, done, info = env.step(action)\n",
    "            avg = info\n",
    "\n",
    "        rewards[env.count - 1] = reward\n",
    "    rewards_lst.append(np.sum(rewards))\n",
    "\n",
    "# plot episode # versus total episode reward\n",
    "plt.plot(list(range(episodes)), rewards_lst)\n",
    "\n",
    "# naming the x axis \n",
    "plt.xlabel('episode #') \n",
    "# naming the y axis \n",
    "plt.ylabel('total reward')\n",
    "\n",
    "plt.show()"
   ]
  }
 ],
 "metadata": {
  "kernelspec": {
   "display_name": "Python 3.9.13 ('sustaingym_norl')",
   "language": "python",
   "name": "python3"
  },
  "language_info": {
   "codemirror_mode": {
    "name": "ipython",
    "version": 3
   },
   "file_extension": ".py",
   "mimetype": "text/x-python",
   "name": "python",
   "nbconvert_exporter": "python",
   "pygments_lexer": "ipython3",
   "version": "3.9.13"
  },
  "orig_nbformat": 4,
  "vscode": {
   "interpreter": {
    "hash": "ae7449cd08752b27835df1c4bb0718136ee1a6b48f09e14c252087e589b0b3d2"
   }
  }
 },
 "nbformat": 4,
 "nbformat_minor": 2
}
